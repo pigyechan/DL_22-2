{
  "nbformat": 4,
  "nbformat_minor": 0,
  "metadata": {
    "colab": {
      "provenance": [],
      "collapsed_sections": []
    },
    "kernelspec": {
      "name": "python3",
      "display_name": "Python 3"
    },
    "language_info": {
      "name": "python"
    }
  },
  "cells": [
    {
      "cell_type": "code",
      "execution_count": 12,
      "metadata": {
        "id": "GzR4P2uK4Drb"
      },
      "outputs": [],
      "source": [
        "%matplotlib inline\n",
        "import matplotlib as mpl\n",
        "import matplotlib.pyplot as plt\n",
        "import numpy as np\n",
        "import os\n",
        "import tensorflow as tf\n",
        "from tensorflow import keras"
      ]
    },
    {
      "cell_type": "code",
      "source": [
        "tf.__version__"
      ],
      "metadata": {
        "colab": {
          "base_uri": "https://localhost:8080/",
          "height": 35
        },
        "id": "7quyN1MwD2DN",
        "outputId": "4c31aa0f-c15b-43d6-e45d-0cc3c7701713"
      },
      "execution_count": 13,
      "outputs": [
        {
          "output_type": "execute_result",
          "data": {
            "text/plain": [
              "'2.8.2'"
            ],
            "application/vnd.google.colaboratory.intrinsic+json": {
              "type": "string"
            }
          },
          "metadata": {},
          "execution_count": 13
        }
      ]
    },
    {
      "cell_type": "code",
      "source": [
        "keras.__version__"
      ],
      "metadata": {
        "colab": {
          "base_uri": "https://localhost:8080/",
          "height": 35
        },
        "id": "5iMMy7fqD3N8",
        "outputId": "18a40642-a9c6-404e-fd1c-3d9eca6b5dfa"
      },
      "execution_count": 14,
      "outputs": [
        {
          "output_type": "execute_result",
          "data": {
            "text/plain": [
              "'2.8.0'"
            ],
            "application/vnd.google.colaboratory.intrinsic+json": {
              "type": "string"
            }
          },
          "metadata": {},
          "execution_count": 14
        }
      ]
    },
    {
      "cell_type": "code",
      "source": [
        "fashion_mnist = keras.datasets.fashion_mnist\n",
        "(X_train_full, y_train_full), (X_test, y_test) = fashion_mnist.load_data() #4개의 변수에 각각의 데이터 로드 됨."
      ],
      "metadata": {
        "id": "CpwN3xEUD4vd"
      },
      "execution_count": 15,
      "outputs": []
    },
    {
      "cell_type": "code",
      "source": [
        "print(X_train_full.shape) #샘플갯수, 샘플 하나의 사이즈(28x28 pixels)\n",
        "print(X_train_full.dtype) #8비트의 unsigned integer/ 2의 8승까지 표현 가능 0부터 255까지의 정수 값 표현"
      ],
      "metadata": {
        "colab": {
          "base_uri": "https://localhost:8080/"
        },
        "id": "tfWl-dt3D631",
        "outputId": "4328139e-e922-4fb1-c780-d322d8d14f5a"
      },
      "execution_count": 16,
      "outputs": [
        {
          "output_type": "stream",
          "name": "stdout",
          "text": [
            "(60000, 28, 28)\n",
            "uint8\n"
          ]
        }
      ]
    },
    {
      "cell_type": "code",
      "source": [
        "X_valid, X_train = X_train_full[:5000] / 255., X_train_full[5000:] / 255. \n",
        "#X_valid 변수에 앞의 5000개 변수만 저장하고, X_train 변수에 55000개의 데이터에 넣음.\n",
        "#크로스 벨리데이션 과정!!\n",
        "#255.0으로 나눈 이유? 0~255 값이였는데 정규화해서 0~1값으로 변경\n",
        "y_valid, y_train = y_train_full[:5000], y_train_full[5000:]\n",
        "X_test = X_test / 255."
      ],
      "metadata": {
        "id": "rhJaL0IbE-zI"
      },
      "execution_count": 17,
      "outputs": []
    },
    {
      "cell_type": "code",
      "source": [
        "class_names = [\"T-shirt/top\", \"Trouser\", \"Pullover\", \"Dress\", \"Coat\",\n",
        "               \"Sandal\", \"Shirt\", \"Sneaker\", \"Bag\", \"Ankle boot\"]"
      ],
      "metadata": {
        "id": "GxckREqAGcr_"
      },
      "execution_count": 18,
      "outputs": []
    },
    {
      "cell_type": "code",
      "source": [
        "class_names[y_train[0]]"
      ],
      "metadata": {
        "colab": {
          "base_uri": "https://localhost:8080/",
          "height": 35
        },
        "id": "1ArFWLJyGrO0",
        "outputId": "c071f0fd-4a6c-4aa2-fc09-e0d95e463519"
      },
      "execution_count": 19,
      "outputs": [
        {
          "output_type": "execute_result",
          "data": {
            "text/plain": [
              "'Coat'"
            ],
            "application/vnd.google.colaboratory.intrinsic+json": {
              "type": "string"
            }
          },
          "metadata": {},
          "execution_count": 19
        }
      ]
    },
    {
      "cell_type": "code",
      "source": [
        "plt.imshow(X_train[0], cmap=\"binary\")\n",
        "plt.axis('off')\n",
        "plt.show()"
      ],
      "metadata": {
        "colab": {
          "base_uri": "https://localhost:8080/",
          "height": 248
        },
        "id": "RH1CMWYuG8bn",
        "outputId": "6e464a27-07cc-4263-9147-b6260dcff27a"
      },
      "execution_count": 20,
      "outputs": [
        {
          "output_type": "display_data",
          "data": {
            "text/plain": [
              "<Figure size 432x288 with 1 Axes>"
            ],
            "image/png": "[encoded data removed]"
          },
          "metadata": {
            "needs_background": "light"
          }
        }
      ]
    },
    {
      "cell_type": "code",
      "source": [
        "model = keras.models.Sequential() \n",
        "#케라스의 모델 형태인데 Sequential 클래스를 가져와 초기 선언 \n",
        "#model이라는 변수는 Sequential API를 이용해서 딥러닝 모델을 정의하는 객체\n",
        "model.add(keras.layers.Flatten(input_shape=[28, 28]))\n",
        "#첫번째 layer가 추가. 입력층\n",
        "# Flatten layer은 한줄의 벡터로 만들어 주는 역할. 784개인 벡터.\n",
        "model.add(keras.layers.Dense(300, activation=\"relu\"))\n",
        "#Dense? 연결이 서로 촘촘하게 연결되어 있는 구조. Dense Net\n",
        "#300? 각 층에서의 perceptron 갯수\n",
        "#activation 활성화 함수/ 한 층에서는 동일한 함수를 사용함.\n",
        "#이 층을 정의하는 parameter는 784x300의 가중치\n",
        "model.add(keras.layers.Dense(100, activation=\"relu\"))\n",
        "#이 층을 정의하는 parameter는 300x100의 가중치\n",
        "model.add(keras.layers.Dense(10, activation=\"softmax\"))\n",
        "#softmax를 쓰는 이유는 확률을 합해서 1이 나와야 해서/ 확률값을 출력하는 모델\n",
        "#은닉층이 될 수 없고 출력층일 것.\n",
        "#어디에 속할 확률이 높은지를 출력하는 모델인지 알 수 있음."
      ],
      "metadata": {
        "id": "Wkhu7likJLDa"
      },
      "execution_count": 21,
      "outputs": []
    },
    {
      "cell_type": "code",
      "source": [
        "model = keras.models.Sequential([\n",
        "    keras.layers.Flatten(input_shape=[28, 28]),\n",
        "    keras.layers.Dense(300, activation=\"relu\"),\n",
        "    keras.layers.Dense(100, activation=\"relu\"),\n",
        "    keras.layers.Dense(10, activation=\"softmax\")\n",
        "])\n",
        "#표현하는 방식이 다른 모델 정의 방법\n",
        "#처음에 Sequential을 정의할 때 리스트 안에 element들을 정의\n",
        "#용도에 따라 다름."
      ],
      "metadata": {
        "id": "Uspf4AhfJjps"
      },
      "execution_count": 22,
      "outputs": []
    },
    {
      "cell_type": "code",
      "source": [
        "model.summary()\n",
        "#원래는 밑에서 위로 올라가는 그림. Flatten layer가 밑으로 내려갈 것.\n",
        "#변수명이 책과 다른 이유는 내부에서 알아서 정해주기 때문.\n",
        "#None: 입력으로 들어오는 데이터의 갯수가 가변적임을 의미. 병렬처리 가능. 나중에 말씀해주실 것!\n",
        "#원래는 100x10은 1000으로 나와야 하는데 1010으로 나온 이유는 각 층에 상수값이 포함되어 있기 때문.\n",
        "#parameter?? 매개변수 화살표 갯수..."
      ],
      "metadata": {
        "colab": {
          "base_uri": "https://localhost:8080/"
        },
        "id": "rOuK8XQUJoSQ",
        "outputId": "846d526b-21a9-4143-fbbd-db1220043c3a"
      },
      "execution_count": 23,
      "outputs": [
        {
          "output_type": "stream",
          "name": "stdout",
          "text": [
            "Model: \"sequential_1\"\n",
            "_________________________________________________________________\n",
            " Layer (type)                Output Shape              Param #   \n",
            "=================================================================\n",
            " flatten_1 (Flatten)         (None, 784)               0         \n",
            "                                                                 \n",
            " dense_3 (Dense)             (None, 300)               235500    \n",
            "                                                                 \n",
            " dense_4 (Dense)             (None, 100)               30100     \n",
            "                                                                 \n",
            " dense_5 (Dense)             (None, 10)                1010      \n",
            "                                                                 \n",
            "=================================================================\n",
            "Total params: 266,610\n",
            "Trainable params: 266,610\n",
            "Non-trainable params: 0\n",
            "_________________________________________________________________\n"
          ]
        }
      ]
    },
    {
      "cell_type": "code",
      "source": [
        "model.layers #모델의 층 각각 리스트로 저장."
      ],
      "metadata": {
        "colab": {
          "base_uri": "https://localhost:8080/"
        },
        "id": "vNi6ruEqKQht",
        "outputId": "e29ce5ce-492d-4d77-9092-d6ee6ffd1641"
      },
      "execution_count": 24,
      "outputs": [
        {
          "output_type": "execute_result",
          "data": {
            "text/plain": [
              "[<keras.layers.core.flatten.Flatten at 0x7f955caa6590>,\n",
              " <keras.layers.core.dense.Dense at 0x7f955caa6690>,\n",
              " <keras.layers.core.dense.Dense at 0x7f955caa6890>,\n",
              " <keras.layers.core.dense.Dense at 0x7f955caa6c10>]"
            ]
          },
          "metadata": {},
          "execution_count": 24
        }
      ]
    },
    {
      "cell_type": "code",
      "source": [
        "hidden1 = model.layers[1] #첫번째 층을 저장함."
      ],
      "metadata": {
        "id": "FfycAXPNKTvT"
      },
      "execution_count": 25,
      "outputs": []
    },
    {
      "cell_type": "code",
      "source": [
        "hidden1.name"
      ],
      "metadata": {
        "colab": {
          "base_uri": "https://localhost:8080/",
          "height": 35
        },
        "id": "MXqh1LTuKW5p",
        "outputId": "ec4736f5-bf6b-4095-ebe5-cff6f651711e"
      },
      "execution_count": 26,
      "outputs": [
        {
          "output_type": "execute_result",
          "data": {
            "text/plain": [
              "'dense_3'"
            ],
            "application/vnd.google.colaboratory.intrinsic+json": {
              "type": "string"
            }
          },
          "metadata": {},
          "execution_count": 26
        }
      ]
    },
    {
      "cell_type": "code",
      "source": [
        "model.get_layer('dense_3') is hidden1 #모델의 층 변수명을 넣어서 가져옴."
      ],
      "metadata": {
        "colab": {
          "base_uri": "https://localhost:8080/"
        },
        "id": "-9BSr2sLKZsx",
        "outputId": "9435b4ea-9215-46e4-c46e-15d23d2cdb0e"
      },
      "execution_count": 29,
      "outputs": [
        {
          "output_type": "execute_result",
          "data": {
            "text/plain": [
              "True"
            ]
          },
          "metadata": {},
          "execution_count": 29
        }
      ]
    },
    {
      "cell_type": "code",
      "source": [
        "weights, biases = hidden1.get_weights()\n",
        "#weights는 상수를 제외한 화살표 값\n",
        "#biases는 상수의 화살표 값"
      ],
      "metadata": {
        "id": "EfqGpz_9KjXC"
      },
      "execution_count": 30,
      "outputs": []
    },
    {
      "cell_type": "code",
      "source": [
        "weights"
      ],
      "metadata": {
        "colab": {
          "base_uri": "https://localhost:8080/"
        },
        "id": "rbk7MYKFKvc6",
        "outputId": "d3106ffa-0563-45d1-bbf2-860cd1e714bd"
      },
      "execution_count": 31,
      "outputs": [
        {
          "output_type": "execute_result",
          "data": {
            "text/plain": [
              "array([[-0.01268954,  0.00942025, -0.06876448, ..., -0.03598358,\n",
              "         0.00561726, -0.07086397],\n",
              "       [ 0.04713394,  0.03507918,  0.06722912, ..., -0.04849148,\n",
              "         0.04971266, -0.07067896],\n",
              "       [ 0.06159954, -0.05399722,  0.06915998, ...,  0.03036444,\n",
              "        -0.00657649, -0.05310967],\n",
              "       ...,\n",
              "       [ 0.05088802,  0.02207467,  0.07387492, ...,  0.0673133 ,\n",
              "         0.01377034,  0.02128094],\n",
              "       [ 0.02797614,  0.06158663,  0.05228508, ..., -0.02971413,\n",
              "         0.06433485,  0.07385036],\n",
              "       [-0.06334062, -0.05117942, -0.01551404, ...,  0.02576026,\n",
              "         0.06390181,  0.06069088]], dtype=float32)"
            ]
          },
          "metadata": {},
          "execution_count": 31
        }
      ]
    },
    {
      "cell_type": "code",
      "source": [
        "weights.shape"
      ],
      "metadata": {
        "colab": {
          "base_uri": "https://localhost:8080/"
        },
        "id": "hCZk8LUqKwcm",
        "outputId": "376ff071-62e7-4bb1-a98a-e80072160345"
      },
      "execution_count": 32,
      "outputs": [
        {
          "output_type": "execute_result",
          "data": {
            "text/plain": [
              "(784, 300)"
            ]
          },
          "metadata": {},
          "execution_count": 32
        }
      ]
    },
    {
      "cell_type": "code",
      "source": [
        "biases"
      ],
      "metadata": {
        "colab": {
          "base_uri": "https://localhost:8080/"
        },
        "id": "h2fgfY72KzCn",
        "outputId": "6cfafc38-1a23-4a19-d9f4-7e138c867104"
      },
      "execution_count": 33,
      "outputs": [
        {
          "output_type": "execute_result",
          "data": {
            "text/plain": [
              "array([0., 0., 0., 0., 0., 0., 0., 0., 0., 0., 0., 0., 0., 0., 0., 0., 0.,\n",
              "       0., 0., 0., 0., 0., 0., 0., 0., 0., 0., 0., 0., 0., 0., 0., 0., 0.,\n",
              "       0., 0., 0., 0., 0., 0., 0., 0., 0., 0., 0., 0., 0., 0., 0., 0., 0.,\n",
              "       0., 0., 0., 0., 0., 0., 0., 0., 0., 0., 0., 0., 0., 0., 0., 0., 0.,\n",
              "       0., 0., 0., 0., 0., 0., 0., 0., 0., 0., 0., 0., 0., 0., 0., 0., 0.,\n",
              "       0., 0., 0., 0., 0., 0., 0., 0., 0., 0., 0., 0., 0., 0., 0., 0., 0.,\n",
              "       0., 0., 0., 0., 0., 0., 0., 0., 0., 0., 0., 0., 0., 0., 0., 0., 0.,\n",
              "       0., 0., 0., 0., 0., 0., 0., 0., 0., 0., 0., 0., 0., 0., 0., 0., 0.,\n",
              "       0., 0., 0., 0., 0., 0., 0., 0., 0., 0., 0., 0., 0., 0., 0., 0., 0.,\n",
              "       0., 0., 0., 0., 0., 0., 0., 0., 0., 0., 0., 0., 0., 0., 0., 0., 0.,\n",
              "       0., 0., 0., 0., 0., 0., 0., 0., 0., 0., 0., 0., 0., 0., 0., 0., 0.,\n",
              "       0., 0., 0., 0., 0., 0., 0., 0., 0., 0., 0., 0., 0., 0., 0., 0., 0.,\n",
              "       0., 0., 0., 0., 0., 0., 0., 0., 0., 0., 0., 0., 0., 0., 0., 0., 0.,\n",
              "       0., 0., 0., 0., 0., 0., 0., 0., 0., 0., 0., 0., 0., 0., 0., 0., 0.,\n",
              "       0., 0., 0., 0., 0., 0., 0., 0., 0., 0., 0., 0., 0., 0., 0., 0., 0.,\n",
              "       0., 0., 0., 0., 0., 0., 0., 0., 0., 0., 0., 0., 0., 0., 0., 0., 0.,\n",
              "       0., 0., 0., 0., 0., 0., 0., 0., 0., 0., 0., 0., 0., 0., 0., 0., 0.,\n",
              "       0., 0., 0., 0., 0., 0., 0., 0., 0., 0., 0.], dtype=float32)"
            ]
          },
          "metadata": {},
          "execution_count": 33
        }
      ]
    },
    {
      "cell_type": "code",
      "source": [
        "biases.shape"
      ],
      "metadata": {
        "colab": {
          "base_uri": "https://localhost:8080/"
        },
        "id": "AblKsQlxK0SO",
        "outputId": "81800823-b132-4b00-9ae0-51fdd6f7add1"
      },
      "execution_count": 34,
      "outputs": [
        {
          "output_type": "execute_result",
          "data": {
            "text/plain": [
              "(300,)"
            ]
          },
          "metadata": {},
          "execution_count": 34
        }
      ]
    },
    {
      "cell_type": "code",
      "source": [
        "model.compile(loss=\"sparse_categorical_crossentropy\",\n",
        "              optimizer=\"sgd\",\n",
        "              metrics=[\"accuracy\"])\n",
        "#loss는 다지선다에 분류하는 문제에 적당한 loss이고, softmax와 연계됨.\n",
        "#optimizer에 따라 학습 속도 등등이 달라짐\n",
        "#metrics는 평가를 어떤 걸로 할 건지.\n",
        "#컴파일 과정은 구조를 결정하고 목표, 즉 기준이 결정됨."
      ],
      "metadata": {
        "id": "KKfARLPQK3Nu"
      },
      "execution_count": 35,
      "outputs": []
    },
    {
      "cell_type": "code",
      "source": [
        "history = model.fit(X_train, y_train, epochs=30,\n",
        "                    validation_data=(X_valid, y_valid))\n",
        "#fit은 훈련을 해줌.\n",
        "#predict는 테스트할 때\n",
        "#validation_data는 안 넣어줘도 동작은 하지만, 이 값은 넣어서 받을 수 있는 것은 실제 응용력을 판단 가능한 값.\n",
        "#이 값이 좋아진다는 것은 성능이 점점 좋아진다는 의미.\n",
        "#train 데이터와 validation 데이터는 반드시 달라야 함.\n",
        "#epochs: 몇 번 훈련할 것인지?"
      ],
      "metadata": {
        "colab": {
          "base_uri": "https://localhost:8080/"
        },
        "id": "hDOFOvS6K9Et",
        "outputId": "21d825af-d503-4203-cca9-bd0071720440"
      },
      "execution_count": 36,
      "outputs": [
        {
          "output_type": "stream",
          "name": "stdout",
          "text": [
            "Epoch 1/30\n",
            "1719/1719 [==============================] - 7s 4ms/step - loss: 0.7370 - accuracy: 0.7555 - val_loss: 0.5280 - val_accuracy: 0.8176\n",
            "Epoch 2/30\n",
            "1719/1719 [==============================] - 6s 3ms/step - loss: 0.4932 - accuracy: 0.8268 - val_loss: 0.4596 - val_accuracy: 0.8374\n",
            "Epoch 3/30\n",
            "1719/1719 [==============================] - 6s 3ms/step - loss: 0.4466 - accuracy: 0.8427 - val_loss: 0.4530 - val_accuracy: 0.8384\n",
            "Epoch 4/30\n",
            "1719/1719 [==============================] - 6s 3ms/step - loss: 0.4192 - accuracy: 0.8524 - val_loss: 0.3988 - val_accuracy: 0.8630\n",
            "Epoch 5/30\n",
            "1719/1719 [==============================] - 7s 4ms/step - loss: 0.3990 - accuracy: 0.8596 - val_loss: 0.4011 - val_accuracy: 0.8626\n",
            "Epoch 6/30\n",
            "1719/1719 [==============================] - 6s 3ms/step - loss: 0.3831 - accuracy: 0.8647 - val_loss: 0.3728 - val_accuracy: 0.8704\n",
            "Epoch 7/30\n",
            "1719/1719 [==============================] - 6s 3ms/step - loss: 0.3689 - accuracy: 0.8696 - val_loss: 0.3823 - val_accuracy: 0.8652\n",
            "Epoch 8/30\n",
            "1719/1719 [==============================] - 9s 5ms/step - loss: 0.3560 - accuracy: 0.8732 - val_loss: 0.3545 - val_accuracy: 0.8766\n",
            "Epoch 9/30\n",
            "1719/1719 [==============================] - 7s 4ms/step - loss: 0.3459 - accuracy: 0.8770 - val_loss: 0.3582 - val_accuracy: 0.8738\n",
            "Epoch 10/30\n",
            "1719/1719 [==============================] - 6s 3ms/step - loss: 0.3370 - accuracy: 0.8805 - val_loss: 0.3358 - val_accuracy: 0.8822\n",
            "Epoch 11/30\n",
            "1719/1719 [==============================] - 6s 3ms/step - loss: 0.3277 - accuracy: 0.8831 - val_loss: 0.3348 - val_accuracy: 0.8788\n",
            "Epoch 12/30\n",
            "1719/1719 [==============================] - 6s 3ms/step - loss: 0.3206 - accuracy: 0.8848 - val_loss: 0.3613 - val_accuracy: 0.8718\n",
            "Epoch 13/30\n",
            "1719/1719 [==============================] - 10s 6ms/step - loss: 0.3123 - accuracy: 0.8877 - val_loss: 0.3351 - val_accuracy: 0.8832\n",
            "Epoch 14/30\n",
            "1719/1719 [==============================] - 7s 4ms/step - loss: 0.3045 - accuracy: 0.8913 - val_loss: 0.3218 - val_accuracy: 0.8878\n",
            "Epoch 15/30\n",
            "1719/1719 [==============================] - 6s 3ms/step - loss: 0.2990 - accuracy: 0.8928 - val_loss: 0.3193 - val_accuracy: 0.8890\n",
            "Epoch 16/30\n",
            "1719/1719 [==============================] - 6s 3ms/step - loss: 0.2933 - accuracy: 0.8945 - val_loss: 0.3423 - val_accuracy: 0.8764\n",
            "Epoch 17/30\n",
            "1719/1719 [==============================] - 6s 3ms/step - loss: 0.2861 - accuracy: 0.8968 - val_loss: 0.3191 - val_accuracy: 0.8862\n",
            "Epoch 18/30\n",
            "1719/1719 [==============================] - 8s 5ms/step - loss: 0.2813 - accuracy: 0.8983 - val_loss: 0.3195 - val_accuracy: 0.8872\n",
            "Epoch 19/30\n",
            "1719/1719 [==============================] - 6s 3ms/step - loss: 0.2762 - accuracy: 0.9013 - val_loss: 0.3055 - val_accuracy: 0.8900\n",
            "Epoch 20/30\n",
            "1719/1719 [==============================] - 7s 4ms/step - loss: 0.2719 - accuracy: 0.9023 - val_loss: 0.3286 - val_accuracy: 0.8854\n",
            "Epoch 21/30\n",
            "1719/1719 [==============================] - 6s 4ms/step - loss: 0.2672 - accuracy: 0.9036 - val_loss: 0.3054 - val_accuracy: 0.8898\n",
            "Epoch 22/30\n",
            "1719/1719 [==============================] - 7s 4ms/step - loss: 0.2618 - accuracy: 0.9058 - val_loss: 0.3129 - val_accuracy: 0.8858\n",
            "Epoch 23/30\n",
            "1719/1719 [==============================] - 7s 4ms/step - loss: 0.2580 - accuracy: 0.9071 - val_loss: 0.3048 - val_accuracy: 0.8916\n",
            "Epoch 24/30\n",
            "1719/1719 [==============================] - 7s 4ms/step - loss: 0.2526 - accuracy: 0.9095 - val_loss: 0.3118 - val_accuracy: 0.8874\n",
            "Epoch 25/30\n",
            "1719/1719 [==============================] - 6s 3ms/step - loss: 0.2475 - accuracy: 0.9110 - val_loss: 0.3193 - val_accuracy: 0.8868\n",
            "Epoch 26/30\n",
            "1719/1719 [==============================] - 6s 3ms/step - loss: 0.2441 - accuracy: 0.9126 - val_loss: 0.3107 - val_accuracy: 0.8908\n",
            "Epoch 27/30\n",
            "1719/1719 [==============================] - 7s 4ms/step - loss: 0.2399 - accuracy: 0.9137 - val_loss: 0.2930 - val_accuracy: 0.8988\n",
            "Epoch 28/30\n",
            "1719/1719 [==============================] - 6s 3ms/step - loss: 0.2370 - accuracy: 0.9140 - val_loss: 0.3024 - val_accuracy: 0.8954\n",
            "Epoch 29/30\n",
            "1719/1719 [==============================] - 6s 3ms/step - loss: 0.2331 - accuracy: 0.9160 - val_loss: 0.2901 - val_accuracy: 0.8940\n",
            "Epoch 30/30\n",
            "1719/1719 [==============================] - 7s 4ms/step - loss: 0.2285 - accuracy: 0.9177 - val_loss: 0.2971 - val_accuracy: 0.8988\n"
          ]
        }
      ]
    },
    {
      "cell_type": "code",
      "source": [
        "import pandas as pd\n",
        "\n",
        "pd.DataFrame(history.history).plot(figsize=(8, 5))\n",
        "plt.grid(True)\n",
        "plt.gca().set_ylim(0, 1)\n",
        "plt.show()\n",
        "#만 개 전체에대해서 확인하는 것."
      ],
      "metadata": {
        "colab": {
          "base_uri": "https://localhost:8080/",
          "height": 324
        },
        "id": "yeBxVL2uLBs4",
        "outputId": "d476644a-a079-4296-ac7d-470ae267fd1e"
      },
      "execution_count": 38,
      "outputs": [
        {
          "output_type": "display_data",
          "data": {
            "text/plain": [
              "<Figure size 576x360 with 1 Axes>"
            ],
            "image/png": "[encoded data removed]"
          },
          "metadata": {
            "needs_background": "light"
          }
        }
      ]
    },
    {
      "cell_type": "code",
      "source": [
        "model.evaluate(X_test, y_test)\n",
        "#evaluate: test 데이터를 그대로 넣어서 평가 가능함.\n",
        "#진짜 성적에 가까움!"
      ],
      "metadata": {
        "colab": {
          "base_uri": "https://localhost:8080/"
        },
        "id": "QAsyIqImLPFN",
        "outputId": "a3eee2e7-1aeb-4b7e-8249-00ff79b569a4"
      },
      "execution_count": 39,
      "outputs": [
        {
          "output_type": "stream",
          "name": "stdout",
          "text": [
            "313/313 [==============================] - 1s 2ms/step - loss: 0.3267 - accuracy: 0.8852\n"
          ]
        },
        {
          "output_type": "execute_result",
          "data": {
            "text/plain": [
              "[0.32674020528793335, 0.885200023651123]"
            ]
          },
          "metadata": {},
          "execution_count": 39
        }
      ]
    },
    {
      "cell_type": "code",
      "source": [
        "#문제를 하나하나 여기서는 3개 줌.\n",
        "X_new = X_test[:3]\n",
        "y_proba = model.predict(X_new)\n",
        "#이때 x값이 들어가서 나올 y값들을 출력하게 됨.\n",
        "y_proba.round(2)\n",
        "#보기 편하게 소수점 둘째자리까지만 출력"
      ],
      "metadata": {
        "colab": {
          "base_uri": "https://localhost:8080/"
        },
        "id": "Y9_xrD9nLVoI",
        "outputId": "8d519a99-29ab-4996-8505-69f90620cb1b"
      },
      "execution_count": 40,
      "outputs": [
        {
          "output_type": "execute_result",
          "data": {
            "text/plain": [
              "array([[0.  , 0.  , 0.  , 0.  , 0.  , 0.  , 0.  , 0.01, 0.  , 0.99],\n",
              "       [0.  , 0.  , 1.  , 0.  , 0.  , 0.  , 0.  , 0.  , 0.  , 0.  ],\n",
              "       [0.  , 1.  , 0.  , 0.  , 0.  , 0.  , 0.  , 0.  , 0.  , 0.  ]],\n",
              "      dtype=float32)"
            ]
          },
          "metadata": {},
          "execution_count": 40
        }
      ]
    },
    {
      "cell_type": "markdown",
      "source": [
        "첫번째 샘플은 10번째에 해당할 확률이 99%라는 것."
      ],
      "metadata": {
        "id": "ECJFR87TVT5v"
      }
    },
    {
      "cell_type": "code",
      "source": [
        "y_pred = np.argmax(model.predict(X_new), axis=-1)\n",
        "y_pred\n",
        "#여기서 각각의 샘플이 어느 인덱스에 포함되는지 출력"
      ],
      "metadata": {
        "colab": {
          "base_uri": "https://localhost:8080/"
        },
        "id": "0RdfdMaULdsc",
        "outputId": "904331c6-d76b-4134-c330-99762c23740e"
      },
      "execution_count": 41,
      "outputs": [
        {
          "output_type": "execute_result",
          "data": {
            "text/plain": [
              "array([9, 2, 1])"
            ]
          },
          "metadata": {},
          "execution_count": 41
        }
      ]
    },
    {
      "cell_type": "code",
      "source": [
        "np.array(class_names)[y_pred]\n",
        "#어느 인덱스 이름인지 출력"
      ],
      "metadata": {
        "colab": {
          "base_uri": "https://localhost:8080/"
        },
        "id": "SQkXwI6cLeWj",
        "outputId": "7993f6ad-5391-4152-d7c0-13e1bb329153"
      },
      "execution_count": 42,
      "outputs": [
        {
          "output_type": "execute_result",
          "data": {
            "text/plain": [
              "array(['Ankle boot', 'Pullover', 'Trouser'], dtype='<U11')"
            ]
          },
          "metadata": {},
          "execution_count": 42
        }
      ]
    },
    {
      "cell_type": "code",
      "source": [
        "y_new = y_test[:3]\n",
        "y_new\n",
        "#여기서 정답이랑 맞는지 확인."
      ],
      "metadata": {
        "colab": {
          "base_uri": "https://localhost:8080/"
        },
        "id": "kw4BqYVqLhmq",
        "outputId": "aa21d7cb-0289-4e5f-945f-e4af42c0917d"
      },
      "execution_count": 43,
      "outputs": [
        {
          "output_type": "execute_result",
          "data": {
            "text/plain": [
              "array([9, 2, 1], dtype=uint8)"
            ]
          },
          "metadata": {},
          "execution_count": 43
        }
      ]
    },
    {
      "cell_type": "code",
      "source": [
        "plt.figure(figsize=(7.2, 2.4))\n",
        "for index, image in enumerate(X_new):\n",
        "    plt.subplot(1, 3, index + 1)\n",
        "    plt.imshow(image, cmap=\"binary\", interpolation=\"nearest\")\n",
        "    plt.axis('off')\n",
        "    plt.title(class_names[y_test[index]], fontsize=12)\n",
        "plt.subplots_adjust(wspace=0.2, hspace=0.5)\n",
        "plt.show()"
      ],
      "metadata": {
        "colab": {
          "base_uri": "https://localhost:8080/",
          "height": 165
        },
        "id": "LJutReFeLk50",
        "outputId": "c1d66097-2cfb-460a-ba7f-ce3f512ce1c7"
      },
      "execution_count": 45,
      "outputs": [
        {
          "output_type": "display_data",
          "data": {
            "text/plain": [
              "<Figure size 518.4x172.8 with 3 Axes>"
            ],
            "image/png": "[encoded data removed]"
          },
          "metadata": {
            "needs_background": "light"
          }
        }
      ]
    },
    {
      "cell_type": "code",
      "source": [],
      "metadata": {
        "id": "fp-1uwBuUreX"
      },
      "execution_count": null,
      "outputs": []
    }
  ]
}