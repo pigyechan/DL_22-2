{
  "nbformat": 4,
  "nbformat_minor": 0,
  "metadata": {
    "colab": {
      "provenance": [],
      "collapsed_sections": []
    },
    "kernelspec": {
      "name": "python3",
      "display_name": "Python 3"
    },
    "language_info": {
      "name": "python"
    }
  },
  "cells": [
    {
      "cell_type": "code",
      "execution_count": 20,
      "metadata": {
        "colab": {
          "base_uri": "https://localhost:8080/"
        },
        "id": "rRFQ7DErhOZC",
        "outputId": "3e1975f5-c9f1-48cb-8bb7-0b7458882590"
      },
      "outputs": [
        {
          "output_type": "execute_result",
          "data": {
            "text/plain": [
              "array([0], dtype=int32)"
            ]
          },
          "metadata": {},
          "execution_count": 20
        }
      ],
      "source": [
        "import numpy as np\n",
        "from sklearn.datasets import load_iris\n",
        "from sklearn.linear_model import Perceptron \n",
        "\n",
        "iris = load_iris() #iris 데이터 셋을 로드\n",
        "X = iris.data[:, [2,3]] #데이터 셋에서 index 2, 3에 해당하는 컬럼만 가져옴.\n",
        "y = (iris.target == 0).astype(np.int32) #target에서 부채붓꽃에 해당하는 0인 데이터만 가져옴.\n",
        "\n",
        "per_clf = Perceptron()\n",
        "per_clf.fit(X,y) #X, y를 가지고 훈련시킴.\n",
        "\n",
        "y_perd = per_clf.predict([[2,0.5]]) #새로운 데이터를 넣을 때 예측해보는 것.\n",
        "y_perd #target 값에 대해 False의 값이 나옴. "
      ]
    }
  ]
}