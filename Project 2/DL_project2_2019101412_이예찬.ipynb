{
  "cells": [
    {
      "cell_type": "code",
      "execution_count": 13,
      "metadata": {
        "id": "tOB01PVLB-TS"
      },
      "outputs": [],
      "source": [
        "import numpy as np\n",
        "from tensorflow import keras\n",
        "\n",
        "max_features = 20000  # Only consider the top 20k words\n",
        "maxlen = 200  # Only consider the first 200 words of each movie review"
      ]
    },
    {
      "cell_type": "markdown",
      "source": [
        "* 참고\n",
        "1. https://blog.naver.com/jjs1608/222834173770\n",
        "2. https://blog.naver.com/kbigpeter/222281230967\n",
        "3. https://nomalcy.tistory.com/277\n"
      ],
      "metadata": {
        "id": "XskloXlNxxsn"
      }
    },
    {
      "cell_type": "code",
      "execution_count": 15,
      "metadata": {
        "id": "mSxQA_4ZEzf9"
      },
      "outputs": [],
      "source": [
        "(x_train, y_train), (x_test, y_test) = keras.datasets.imdb.load_data(\n",
        "    num_words=max_features\n",
        ")\n",
        "\n",
        "x_train = keras.preprocessing.sequence.pad_sequences(x_train, maxlen=maxlen, truncating=\"post\")\n",
        "x_test = keras.preprocessing.sequence.pad_sequences(x_test, maxlen=maxlen, truncating=\"post\")"
      ]
    },
    {
      "cell_type": "code",
      "execution_count": 16,
      "metadata": {
        "colab": {
          "base_uri": "https://localhost:8080/"
        },
        "id": "S4fJg66PIZXt",
        "outputId": "f9032508-3402-46fd-ad05-ac60b0e1d8d0"
      },
      "outputs": [
        {
          "output_type": "stream",
          "name": "stdout",
          "text": [
            "[    1    14    22    16    43   530   973  1622  1385    65   458  4468\n",
            "    66  3941     4   173    36   256     5    25   100    43   838   112\n",
            "    50   670     2     9    35   480   284     5   150     4   172   112\n",
            "   167     2   336   385    39     4   172  4536  1111    17   546    38\n",
            "    13   447     4   192    50    16     6   147  2025    19    14    22\n",
            "     4  1920  4613   469     4    22    71    87    12    16    43   530\n",
            "    38    76    15    13  1247     4    22    17   515    17    12    16\n",
            "   626    18 19193     5    62   386    12     8   316     8   106     5\n",
            "     4  2223  5244    16   480    66  3785    33     4   130    12    16\n",
            "    38   619     5    25   124    51    36   135    48    25  1415    33\n",
            "     6    22    12   215    28    77    52     5    14   407    16    82\n",
            " 10311     8     4   107   117  5952    15   256     4     2     7  3766\n",
            "     5   723    36    71    43   530   476    26   400   317    46     7\n",
            "     4 12118  1029    13   104    88     4   381    15   297    98    32\n",
            "  2071    56    26   141     6   194  7486    18     4   226    22    21\n",
            "   134   476    26   480     5   144    30  5535    18    51    36    28\n",
            "   224    92    25   104     4   226    65    16]\n"
          ]
        }
      ],
      "source": [
        "print(x_train[0])"
      ]
    },
    {
      "cell_type": "markdown",
      "source": [
        "1번 모델"
      ],
      "metadata": {
        "id": "Cgfrba5bvIeW"
      }
    },
    {
      "cell_type": "code",
      "execution_count": 14,
      "metadata": {
        "colab": {
          "base_uri": "https://localhost:8080/"
        },
        "id": "2z33q0kUCUye",
        "outputId": "7e7d186a-da06-4958-8aa6-a0ee241188b0"
      },
      "outputs": [
        {
          "output_type": "stream",
          "name": "stdout",
          "text": [
            "Model: \"sequential_2\"\n",
            "_________________________________________________________________\n",
            " Layer (type)                Output Shape              Param #   \n",
            "=================================================================\n",
            " embedding_2 (Embedding)     (None, None, 128)         2560000   \n",
            "                                                                 \n",
            " bidirectional_6 (Bidirectio  (None, None, 128)        98816     \n",
            " nal)                                                            \n",
            "                                                                 \n",
            " bidirectional_7 (Bidirectio  (None, None, 128)        98816     \n",
            " nal)                                                            \n",
            "                                                                 \n",
            " lstm_5 (LSTM)               (None, 32)                20608     \n",
            "                                                                 \n",
            " dense_3 (Dense)             (None, 1)                 33        \n",
            "                                                                 \n",
            "=================================================================\n",
            "Total params: 2,778,273\n",
            "Trainable params: 2,778,273\n",
            "Non-trainable params: 0\n",
            "_________________________________________________________________\n"
          ]
        }
      ],
      "source": [
        "model = keras.models.Sequential([\n",
        "    keras.layers.Embedding(max_features, 128),\n",
        "    keras.layers.Bidirectional(keras.layers.LSTM(64, return_sequences= True)),\n",
        "    keras.layers.Bidirectional(keras.layers.LSTM(64, return_sequences= True)),\n",
        "    keras.layers.LSTM(32),\n",
        "    keras.layers.Dense(1, activation=\"sigmoid\")\n",
        "])\n",
        "    \n",
        "model.summary()"
      ]
    },
    {
      "cell_type": "code",
      "execution_count": 17,
      "metadata": {
        "colab": {
          "base_uri": "https://localhost:8080/"
        },
        "id": "PF5xc3_FKuL0",
        "outputId": "85d2927a-a61f-44cf-f6f7-fcd149df3787"
      },
      "outputs": [
        {
          "output_type": "stream",
          "name": "stdout",
          "text": [
            "Epoch 1/10\n",
            "313/313 [==============================] - ETA: 0s - loss: 0.4604 - accuracy: 0.7876"
          ]
        },
        {
          "output_type": "stream",
          "name": "stderr",
          "text": [
            "WARNING:tensorflow:Can save best model only with val_acc available, skipping.\n"
          ]
        },
        {
          "output_type": "stream",
          "name": "stdout",
          "text": [
            "\b\b\b\b\b\b\b\b\b\b\b\b\b\b\b\b\b\b\b\b\b\b\b\b\b\b\b\b\b\b\b\b\b\b\b\b\b\b\b\b\b\b\b\b\b\b\b\b\b\b\b\b\b\b\b\b\b\b\b\b\b\b\b\b\b\b\b\b\b\b\b\b\b\b\b\b\b\b\b\b\b\b\b\b\r313/313 [==============================] - 388s 1s/step - loss: 0.4604 - accuracy: 0.7876 - val_loss: 0.3827 - val_accuracy: 0.8420\n",
            "Epoch 2/10\n",
            "313/313 [==============================] - ETA: 0s - loss: 0.2842 - accuracy: 0.8909"
          ]
        },
        {
          "output_type": "stream",
          "name": "stderr",
          "text": [
            "WARNING:tensorflow:Can save best model only with val_acc available, skipping.\n"
          ]
        },
        {
          "output_type": "stream",
          "name": "stdout",
          "text": [
            "\b\b\b\b\b\b\b\b\b\b\b\b\b\b\b\b\b\b\b\b\b\b\b\b\b\b\b\b\b\b\b\b\b\b\b\b\b\b\b\b\b\b\b\b\b\b\b\b\b\b\b\b\b\b\b\b\b\b\b\b\b\b\b\b\b\b\b\b\b\b\b\b\b\b\b\b\b\b\b\b\b\b\b\b\r313/313 [==============================] - 375s 1s/step - loss: 0.2842 - accuracy: 0.8909 - val_loss: 0.3948 - val_accuracy: 0.8410\n",
            "Epoch 3/10\n",
            "313/313 [==============================] - ETA: 0s - loss: 0.2170 - accuracy: 0.9202"
          ]
        },
        {
          "output_type": "stream",
          "name": "stderr",
          "text": [
            "WARNING:tensorflow:Can save best model only with val_acc available, skipping.\n"
          ]
        },
        {
          "output_type": "stream",
          "name": "stdout",
          "text": [
            "\b\b\b\b\b\b\b\b\b\b\b\b\b\b\b\b\b\b\b\b\b\b\b\b\b\b\b\b\b\b\b\b\b\b\b\b\b\b\b\b\b\b\b\b\b\b\b\b\b\b\b\b\b\b\b\b\b\b\b\b\b\b\b\b\b\b\b\b\b\b\b\b\b\b\b\b\b\b\b\b\b\b\b\b\r313/313 [==============================] - 375s 1s/step - loss: 0.2170 - accuracy: 0.9202 - val_loss: 0.3995 - val_accuracy: 0.8200\n",
            "Epoch 4/10\n",
            "313/313 [==============================] - ETA: 0s - loss: 0.1651 - accuracy: 0.9420"
          ]
        },
        {
          "output_type": "stream",
          "name": "stderr",
          "text": [
            "WARNING:tensorflow:Can save best model only with val_acc available, skipping.\n"
          ]
        },
        {
          "output_type": "stream",
          "name": "stdout",
          "text": [
            "\b\b\b\b\b\b\b\b\b\b\b\b\b\b\b\b\b\b\b\b\b\b\b\b\b\b\b\b\b\b\b\b\b\b\b\b\b\b\b\b\b\b\b\b\b\b\b\b\b\b\b\b\b\b\b\b\b\b\b\b\b\b\b\b\b\b\b\b\b\b\b\b\b\b\b\b\b\b\b\b\b\b\b\b\r313/313 [==============================] - 375s 1s/step - loss: 0.1651 - accuracy: 0.9420 - val_loss: 0.3556 - val_accuracy: 0.8674\n",
            "Epoch 5/10\n",
            "313/313 [==============================] - ETA: 0s - loss: 0.1306 - accuracy: 0.9554"
          ]
        },
        {
          "output_type": "stream",
          "name": "stderr",
          "text": [
            "WARNING:tensorflow:Can save best model only with val_acc available, skipping.\n"
          ]
        },
        {
          "output_type": "stream",
          "name": "stdout",
          "text": [
            "\b\b\b\b\b\b\b\b\b\b\b\b\b\b\b\b\b\b\b\b\b\b\b\b\b\b\b\b\b\b\b\b\b\b\b\b\b\b\b\b\b\b\b\b\b\b\b\b\b\b\b\b\b\b\b\b\b\b\b\b\b\b\b\b\b\b\b\b\b\b\b\b\b\b\b\b\b\b\b\b\b\b\b\b\r313/313 [==============================] - 375s 1s/step - loss: 0.1306 - accuracy: 0.9554 - val_loss: 0.3475 - val_accuracy: 0.8658\n",
            "Epoch 6/10\n",
            "313/313 [==============================] - ETA: 0s - loss: 0.1032 - accuracy: 0.9669"
          ]
        },
        {
          "output_type": "stream",
          "name": "stderr",
          "text": [
            "WARNING:tensorflow:Can save best model only with val_acc available, skipping.\n"
          ]
        },
        {
          "output_type": "stream",
          "name": "stdout",
          "text": [
            "\b\b\b\b\b\b\b\b\b\b\b\b\b\b\b\b\b\b\b\b\b\b\b\b\b\b\b\b\b\b\b\b\b\b\b\b\b\b\b\b\b\b\b\b\b\b\b\b\b\b\b\b\b\b\b\b\b\b\b\b\b\b\b\b\b\b\b\b\b\b\b\b\b\b\b\b\b\b\b\b\b\b\b\b\r313/313 [==============================] - 373s 1s/step - loss: 0.1032 - accuracy: 0.9669 - val_loss: 0.4496 - val_accuracy: 0.8648\n",
            "Epoch 7/10\n",
            "313/313 [==============================] - ETA: 0s - loss: 0.0815 - accuracy: 0.9733"
          ]
        },
        {
          "output_type": "stream",
          "name": "stderr",
          "text": [
            "WARNING:tensorflow:Can save best model only with val_acc available, skipping.\n"
          ]
        },
        {
          "output_type": "stream",
          "name": "stdout",
          "text": [
            "\b\b\b\b\b\b\b\b\b\b\b\b\b\b\b\b\b\b\b\b\b\b\b\b\b\b\b\b\b\b\b\b\b\b\b\b\b\b\b\b\b\b\b\b\b\b\b\b\b\b\b\b\b\b\b\b\b\b\b\b\b\b\b\b\b\b\b\b\b\b\b\b\b\b\b\b\b\b\b\b\b\b\b\b\r313/313 [==============================] - 375s 1s/step - loss: 0.0815 - accuracy: 0.9733 - val_loss: 0.5251 - val_accuracy: 0.8456\n",
            "Epoch 8/10\n",
            "313/313 [==============================] - ETA: 0s - loss: 0.0669 - accuracy: 0.9785"
          ]
        },
        {
          "output_type": "stream",
          "name": "stderr",
          "text": [
            "WARNING:tensorflow:Can save best model only with val_acc available, skipping.\n"
          ]
        },
        {
          "output_type": "stream",
          "name": "stdout",
          "text": [
            "\b\b\b\b\b\b\b\b\b\b\b\b\b\b\b\b\b\b\b\b\b\b\b\b\b\b\b\b\b\b\b\b\b\b\b\b\b\b\b\b\b\b\b\b\b\b\b\b\b\b\b\b\b\b\b\b\b\b\b\b\b\b\b\b\b\b\b\b\b\b\b\b\b\b\b\b\b\b\b\b\b\b\b\b\r313/313 [==============================] - 378s 1s/step - loss: 0.0669 - accuracy: 0.9785 - val_loss: 0.5105 - val_accuracy: 0.8580\n",
            "Epoch 9/10\n",
            "313/313 [==============================] - ETA: 0s - loss: 0.0518 - accuracy: 0.9841"
          ]
        },
        {
          "output_type": "stream",
          "name": "stderr",
          "text": [
            "WARNING:tensorflow:Can save best model only with val_acc available, skipping.\n"
          ]
        },
        {
          "output_type": "stream",
          "name": "stdout",
          "text": [
            "\b\b\b\b\b\b\b\b\b\b\b\b\b\b\b\b\b\b\b\b\b\b\b\b\b\b\b\b\b\b\b\b\b\b\b\b\b\b\b\b\b\b\b\b\b\b\b\b\b\b\b\b\b\b\b\b\b\b\b\b\b\b\b\b\b\b\b\b\b\b\b\b\b\b\b\b\b\b\b\b\b\b\b\b\r313/313 [==============================] - 376s 1s/step - loss: 0.0518 - accuracy: 0.9841 - val_loss: 0.4941 - val_accuracy: 0.8588\n",
            "Epoch 9: early stopping\n"
          ]
        }
      ],
      "source": [
        "from tensorflow.keras.callbacks import EarlyStopping, ModelCheckpoint\n",
        "\n",
        "es = EarlyStopping(monitor='val_loss', mode='min', verbose=1, patience=4)\n",
        "mc = ModelCheckpoint('GRU_model.h5', monitor='val_acc', mode='max', verbose=1, save_best_only=True)\n",
        "\n",
        "model.compile(\"rmsprop\", \"binary_crossentropy\", metrics=[\"accuracy\"])\n",
        "history = model.fit(x_train, y_train, batch_size=64, epochs=10, callbacks=[es, mc], validation_split=0.2)"
      ]
    },
    {
      "cell_type": "code",
      "execution_count": 18,
      "metadata": {
        "id": "T5mpS3HESZdz",
        "colab": {
          "base_uri": "https://localhost:8080/"
        },
        "outputId": "526f46ae-ccac-423b-a9ca-39c0a479b923"
      },
      "outputs": [
        {
          "output_type": "stream",
          "name": "stdout",
          "text": [
            "782/782 [==============================] - 109s 140ms/step - loss: 0.5494 - accuracy: 0.8450\n"
          ]
        },
        {
          "output_type": "execute_result",
          "data": {
            "text/plain": [
              "[0.5493708252906799, 0.8450400233268738]"
            ]
          },
          "metadata": {},
          "execution_count": 18
        }
      ],
      "source": [
        "model.evaluate(x_test, y_test)"
      ]
    },
    {
      "cell_type": "markdown",
      "source": [
        "2번 모델"
      ],
      "metadata": {
        "id": "OB25x0UYvZDl"
      }
    },
    {
      "cell_type": "code",
      "source": [
        "model2 = keras.models.Sequential([\n",
        "    keras.layers.Embedding(max_features, 128),\n",
        "    keras.layers.Bidirectional(keras.layers.LSTM(64, return_sequences= True)),\n",
        "    keras.layers.Bidirectional(keras.layers.LSTM(64, return_sequences= True)),\n",
        "    keras.layers.Dense(32),\n",
        "    keras.layers.Dense(1, activation=\"sigmoid\")\n",
        "])\n",
        "    \n",
        "model2.summary()"
      ],
      "metadata": {
        "id": "K5hvbhnMvYf4"
      },
      "execution_count": null,
      "outputs": []
    },
    {
      "cell_type": "code",
      "source": [
        "model2.compile(\"rmsprop\", \"binary_crossentropy\", metrics=[\"accuracy\"])\n",
        "history = model2.fit(x_train, y_train, batch_size=64, epochs=10, callbacks=[es, mc], validation_split=0.2)"
      ],
      "metadata": {
        "id": "XQyJZQVbUJPA"
      },
      "execution_count": 18,
      "outputs": []
    },
    {
      "cell_type": "code",
      "source": [
        "model2.evaluate(x_test, y_test)"
      ],
      "metadata": {
        "id": "av0eZoX7vufW"
      },
      "execution_count": null,
      "outputs": []
    },
    {
      "cell_type": "markdown",
      "source": [
        "3번 모델"
      ],
      "metadata": {
        "id": "GnTcZY13vwbg"
      }
    },
    {
      "cell_type": "code",
      "source": [
        "model3 = keras.models.Sequential([\n",
        "    keras.layers.Embedding(max_features, 128),\n",
        "    keras.layers.Bidirectional(keras.layers.GRU(64, return_sequences= True)),\n",
        "    keras.layers.Bidirectional(keras.layers.GRU(64, return_sequences= True)),\n",
        "    keras.layers.Dense(32),\n",
        "    keras.layers.Dense(1, activation=\"sigmoid\")\n",
        "])\n",
        "    \n",
        "model3.summary()"
      ],
      "metadata": {
        "id": "Opl2JpFzvzb2"
      },
      "execution_count": null,
      "outputs": []
    },
    {
      "cell_type": "code",
      "source": [
        "model3.compile(\"rmsprop\", \"binary_crossentropy\", metrics=[\"accuracy\"])\n",
        "history = model3.fit(x_train, y_train, batch_size=64, epochs=10, callbacks=[es, mc], validation_split=0.2)"
      ],
      "metadata": {
        "id": "iVIRsWnawCH4"
      },
      "execution_count": null,
      "outputs": []
    },
    {
      "cell_type": "code",
      "source": [
        "model3.evaluate(x_test, y_test)"
      ],
      "metadata": {
        "id": "cNjssb7uwDBV"
      },
      "execution_count": null,
      "outputs": []
    },
    {
      "cell_type": "markdown",
      "source": [
        "4번 모델"
      ],
      "metadata": {
        "id": "i2xnh0E0wGUy"
      }
    },
    {
      "cell_type": "code",
      "source": [
        "model4 = keras.models.Sequential([\n",
        "    keras.layers.Embedding(max_features, 128),\n",
        "    keras.layers.Bidirectional(keras.layers.LSTM(64, return_sequences= True)),\n",
        "    keras.layers.Bidirectional(keras.layers.LSTM(64, return_sequences= True)),\n",
        "    keras.layers.Dense(1, activation=\"sigmoid\")\n",
        "])\n",
        "    \n",
        "model4.summary()"
      ],
      "metadata": {
        "id": "0K1MUScrwICE"
      },
      "execution_count": null,
      "outputs": []
    },
    {
      "cell_type": "code",
      "source": [
        "model4.compile(\"rmsprop\", \"binary_crossentropy\", metrics=[\"accuracy\"])\n",
        "history = model4.fit(x_train, y_train, batch_size=64, epochs=10, callbacks=[es, mc], validation_split=0.2)"
      ],
      "metadata": {
        "id": "Inj7BK88wTfB"
      },
      "execution_count": null,
      "outputs": []
    },
    {
      "cell_type": "code",
      "source": [
        "model4.evaluate(x_test, y_test)"
      ],
      "metadata": {
        "id": "-14yErJVwUFX"
      },
      "execution_count": null,
      "outputs": []
    },
    {
      "cell_type": "markdown",
      "source": [
        "5번 모델"
      ],
      "metadata": {
        "id": "sYbQ_7m0wY7d"
      }
    },
    {
      "cell_type": "code",
      "source": [
        "model5 = keras.models.Sequential([\n",
        "    keras.layers.Embedding(max_features, 128),\n",
        "    keras.layers.Bidirectional(keras.layers.SimpleRNN(64, return_sequences= True)),\n",
        "    keras.layers.Bidirectional(keras.layers.SimpleRNN(64, return_sequences= True)),\n",
        "    keras.layers.Bidirectional(keras.layers.SimpleRNN(64, return_sequences= True)),\n",
        "    keras.layers.Bidirectional(keras.layers.SimpleRNN(64)),\n",
        "    keras.layers.Dense(32),\n",
        "    keras.layers.Dense(1, activation=\"sigmoid\")\n",
        "])\n",
        "    \n",
        "model5.summary()"
      ],
      "metadata": {
        "id": "lBhlRlH8wbBG"
      },
      "execution_count": null,
      "outputs": []
    },
    {
      "cell_type": "code",
      "source": [
        "model5.compile(\"adam\", \"binary_crossentropy\", metrics=[\"accuracy\"])\n",
        "history = model5.fit(x_train, y_train, batch_size=64, epochs=10, callbacks=[es, mc], validation_split=0.2)"
      ],
      "metadata": {
        "id": "3Rn1o1RhwtXz"
      },
      "execution_count": null,
      "outputs": []
    },
    {
      "cell_type": "code",
      "source": [
        "model5.evaluate(x_test, y_test)"
      ],
      "metadata": {
        "id": "KPL-XaKIwvi3"
      },
      "execution_count": null,
      "outputs": []
    },
    {
      "cell_type": "markdown",
      "source": [
        "6번 모델"
      ],
      "metadata": {
        "id": "NJghVBdfw6hu"
      }
    },
    {
      "cell_type": "code",
      "source": [
        "model6 = keras.models.Sequential([\n",
        "    keras.layers.Embedding(max_features, 128),\n",
        "    keras.layers.Bidirectional(keras.layers.LSTM(64, return_sequences= True)),\n",
        "    keras.layers.Bidirectional(keras.layers.LSTM(64, return_sequences= True)),\n",
        "    keras.layers.LSTM(128),\n",
        "    keras.layers.Dense(32),\n",
        "    keras.layers.Dense(1, activation=\"sigmoid\")\n",
        "])\n",
        "    \n",
        "model6.summary()"
      ],
      "metadata": {
        "colab": {
          "base_uri": "https://localhost:8080/"
        },
        "id": "ozqTYCeWw8LC",
        "outputId": "9ee54e5b-dcf8-49e3-80b4-6a27cba46782"
      },
      "execution_count": 20,
      "outputs": [
        {
          "output_type": "stream",
          "name": "stdout",
          "text": [
            "Model: \"sequential_3\"\n",
            "_________________________________________________________________\n",
            " Layer (type)                Output Shape              Param #   \n",
            "=================================================================\n",
            " embedding_3 (Embedding)     (None, None, 128)         2560000   \n",
            "                                                                 \n",
            " bidirectional_8 (Bidirectio  (None, None, 128)        98816     \n",
            " nal)                                                            \n",
            "                                                                 \n",
            " bidirectional_9 (Bidirectio  (None, None, 128)        98816     \n",
            " nal)                                                            \n",
            "                                                                 \n",
            " lstm_8 (LSTM)               (None, 128)               131584    \n",
            "                                                                 \n",
            " dense_4 (Dense)             (None, 32)                4128      \n",
            "                                                                 \n",
            " dense_5 (Dense)             (None, 1)                 33        \n",
            "                                                                 \n",
            "=================================================================\n",
            "Total params: 2,893,377\n",
            "Trainable params: 2,893,377\n",
            "Non-trainable params: 0\n",
            "_________________________________________________________________\n"
          ]
        }
      ]
    },
    {
      "cell_type": "code",
      "source": [
        "model6.compile(\"rmsprop\", \"binary_crossentropy\", metrics=[\"accuracy\"])\n",
        "history = model6.fit(x_train, y_train, batch_size=64, epochs=10, callbacks=[es, mc], validation_split=0.2)"
      ],
      "metadata": {
        "id": "Z-OOx05-xPQ7"
      },
      "execution_count": null,
      "outputs": []
    },
    {
      "cell_type": "code",
      "source": [
        "model6.evaluate(x_test, y_test)"
      ],
      "metadata": {
        "id": "xyflr-0xxPGA"
      },
      "execution_count": null,
      "outputs": []
    },
    {
      "cell_type": "markdown",
      "source": [
        "7번 모델"
      ],
      "metadata": {
        "id": "fSKGX9YYxV7l"
      }
    },
    {
      "cell_type": "code",
      "source": [
        "model7 = keras.models.Sequential([\n",
        "    keras.layers.Embedding(max_features, 128),\n",
        "    keras.layers.Bidirectional(keras.layers.LSTM(64, return_sequences= True)),\n",
        "    keras.layers.Bidirectional(keras.layers.LSTM(64, return_sequences= True)),\n",
        "    keras.layers.LSTM(32),\n",
        "    keras.layers.Dense(1, activation=\"sigmoid\")\n",
        "])\n",
        "    \n",
        "model7.summary()"
      ],
      "metadata": {
        "id": "7UaQOY3TxemI"
      },
      "execution_count": null,
      "outputs": []
    },
    {
      "cell_type": "code",
      "source": [
        "model7.compile(\"rmsprop\", \"binary_crossentropy\", metrics=[\"accuracy\"])\n",
        "history = model6.fit(x_train, y_train, batch_size=64, epochs=10, callbacks=[es, mc], validation_split=0.2)"
      ],
      "metadata": {
        "id": "Kwdiao0BxrgV"
      },
      "execution_count": null,
      "outputs": []
    },
    {
      "cell_type": "code",
      "source": [
        "model7.evaluate(x_test, y_test)"
      ],
      "metadata": {
        "id": "7tK7iQvcxumd"
      },
      "execution_count": null,
      "outputs": []
    }
  ],
  "metadata": {
    "colab": {
      "provenance": []
    },
    "kernelspec": {
      "display_name": "Python 3",
      "name": "python3"
    },
    "language_info": {
      "name": "python"
    }
  },
  "nbformat": 4,
  "nbformat_minor": 0
}