{
  "nbformat": 4,
  "nbformat_minor": 0,
  "metadata": {
    "colab": {
      "provenance": [],
      "collapsed_sections": []
    },
    "kernelspec": {
      "name": "python3",
      "display_name": "Python 3"
    },
    "language_info": {
      "name": "python"
    }
  },
  "cells": [
    {
      "cell_type": "markdown",
      "source": [
        "#11장"
      ],
      "metadata": {
        "id": "HccPsCMz_vtP"
      }
    },
    {
      "cell_type": "code",
      "execution_count": 1,
      "metadata": {
        "id": "FkHwMXgXtEXO"
      },
      "outputs": [],
      "source": [
        "# 파이썬 ≥3.5 필수\n",
        "import sys\n",
        "assert sys.version_info >= (3, 5)\n",
        "\n",
        "# 사이킷런 ≥0.20 필수\n",
        "import sklearn\n",
        "assert sklearn.__version__ >= \"0.20\"\n",
        "\n",
        "# 텐서플로 ≥2.0 필수\n",
        "import tensorflow as tf\n",
        "from tensorflow import keras\n",
        "assert tf.__version__ >= \"2.0\"\n",
        "\n",
        "%load_ext tensorboard\n",
        "\n",
        "# 공통 모듈 임포트\n",
        "import numpy as np\n",
        "import os\n",
        "\n",
        "# 노트북 실행 결과를 동일하게 유지하기 위해\n",
        "np.random.seed(42)\n",
        "\n",
        "# 깔끔한 그래프 출력을 위해\n",
        "%matplotlib inline\n",
        "import matplotlib as mpl\n",
        "import matplotlib.pyplot as plt\n",
        "mpl.rc('axes', labelsize=14)\n",
        "mpl.rc('xtick', labelsize=12)\n",
        "mpl.rc('ytick', labelsize=12)"
      ]
    },
    {
      "cell_type": "code",
      "source": [
        "(X_train_full, y_train_full), (X_test, y_test) = keras.datasets.fashion_mnist.load_data()\n",
        "X_train_full = X_train_full / 255.0\n",
        "X_test = X_test / 255.0\n",
        "X_valid, X_train = X_train_full[:5000], X_train_full[5000:]\n",
        "y_valid, y_train = y_train_full[:5000], y_train_full[5000:]"
      ],
      "metadata": {
        "id": "0L61tXLJwC0-"
      },
      "execution_count": 2,
      "outputs": []
    },
    {
      "cell_type": "markdown",
      "source": [
        "#학습률 스케쥴링"
      ],
      "metadata": {
        "id": "maHll2qN1xlw"
      }
    },
    {
      "cell_type": "markdown",
      "source": [
        "##Power Scheduling\n",
        "\n",
        "lr = lr0 / (1 + steps / s)**c"
      ],
      "metadata": {
        "id": "G2w3BP2Z1gz5"
      }
    },
    {
      "cell_type": "code",
      "source": [
        "optimizer = keras.optimizers.SGD(learning_rate=0.01, decay=1e-4) \n",
        "# power scheduling 거듭제곱 기반 스케줄링\n",
        "# lr은 초기값으로 decay 만큼 감소한다."
      ],
      "metadata": {
        "id": "HuHTxmw5vQvW"
      },
      "execution_count": 3,
      "outputs": []
    },
    {
      "cell_type": "code",
      "source": [
        "model = keras.models.Sequential([\n",
        "    keras.layers.Flatten(input_shape=[28, 28]),\n",
        "    keras.layers.Dense(300, activation=\"selu\", kernel_initializer=\"lecun_normal\"),\n",
        "    keras.layers.Dense(100, activation=\"selu\", kernel_initializer=\"lecun_normal\"),\n",
        "    keras.layers.Dense(10, activation=\"softmax\")\n",
        "])\n",
        "model.compile(loss=\"sparse_categorical_crossentropy\", optimizer=optimizer, metrics=[\"accuracy\"])"
      ],
      "metadata": {
        "id": "cqHai7GfvlFM"
      },
      "execution_count": 4,
      "outputs": []
    },
    {
      "cell_type": "code",
      "source": [
        "init = keras.initializers.VarianceScaling(scale=2., mode='fan_avg',\n",
        "                                          distribution='uniform')\n",
        "keras.layers.Dense(10, activation=\"relu\", kernel_initializer=init)"
      ],
      "metadata": {
        "colab": {
          "base_uri": "https://localhost:8080/"
        },
        "id": "diEthVciw4Md",
        "outputId": "915a1335-724a-4b8a-ed78-95e406a6194b"
      },
      "execution_count": 5,
      "outputs": [
        {
          "output_type": "execute_result",
          "data": {
            "text/plain": [
              "<keras.layers.core.dense.Dense at 0x7f73b875df10>"
            ]
          },
          "metadata": {},
          "execution_count": 5
        }
      ]
    },
    {
      "cell_type": "code",
      "source": [
        "pixel_means = X_train.mean(axis=0, keepdims=True)\n",
        "pixel_stds = X_train.std(axis=0, keepdims=True)\n",
        "X_train_scaled = (X_train - pixel_means) / pixel_stds\n",
        "X_valid_scaled = (X_valid - pixel_means) / pixel_stds\n",
        "X_test_scaled = (X_test - pixel_means) / pixel_stds"
      ],
      "metadata": {
        "id": "nsEPJq_Yx6_f"
      },
      "execution_count": 6,
      "outputs": []
    },
    {
      "cell_type": "code",
      "source": [
        "n_epochs = 25\n",
        "history = model.fit(X_train_scaled, y_train, epochs=n_epochs,\n",
        "                    validation_data=(X_valid_scaled, y_valid))"
      ],
      "metadata": {
        "colab": {
          "base_uri": "https://localhost:8080/"
        },
        "id": "niHOeUXLvnRE",
        "outputId": "9b3a7b0c-5ea7-484d-c004-1bfc31f1c3e0"
      },
      "execution_count": 7,
      "outputs": [
        {
          "output_type": "stream",
          "name": "stdout",
          "text": [
            "Epoch 1/25\n",
            "1719/1719 [==============================] - 10s 6ms/step - loss: 0.4850 - accuracy: 0.8295 - val_loss: 0.3981 - val_accuracy: 0.8632\n",
            "Epoch 2/25\n",
            "1719/1719 [==============================] - 9s 5ms/step - loss: 0.3758 - accuracy: 0.8655 - val_loss: 0.3821 - val_accuracy: 0.8672\n",
            "Epoch 3/25\n",
            "1719/1719 [==============================] - 9s 5ms/step - loss: 0.3454 - accuracy: 0.8771 - val_loss: 0.3624 - val_accuracy: 0.8722\n",
            "Epoch 4/25\n",
            "1719/1719 [==============================] - 9s 5ms/step - loss: 0.3245 - accuracy: 0.8835 - val_loss: 0.3519 - val_accuracy: 0.8750\n",
            "Epoch 5/25\n",
            "1719/1719 [==============================] - 9s 5ms/step - loss: 0.3090 - accuracy: 0.8895 - val_loss: 0.3432 - val_accuracy: 0.8792\n",
            "Epoch 6/25\n",
            "1719/1719 [==============================] - 10s 6ms/step - loss: 0.2971 - accuracy: 0.8939 - val_loss: 0.3402 - val_accuracy: 0.8768\n",
            "Epoch 7/25\n",
            "1719/1719 [==============================] - 9s 5ms/step - loss: 0.2866 - accuracy: 0.8983 - val_loss: 0.3397 - val_accuracy: 0.8834\n",
            "Epoch 8/25\n",
            "1719/1719 [==============================] - 9s 5ms/step - loss: 0.2778 - accuracy: 0.9009 - val_loss: 0.3367 - val_accuracy: 0.8776\n",
            "Epoch 9/25\n",
            "1719/1719 [==============================] - 10s 6ms/step - loss: 0.2701 - accuracy: 0.9039 - val_loss: 0.3308 - val_accuracy: 0.8804\n",
            "Epoch 10/25\n",
            "1719/1719 [==============================] - 9s 5ms/step - loss: 0.2632 - accuracy: 0.9067 - val_loss: 0.3287 - val_accuracy: 0.8824\n",
            "Epoch 11/25\n",
            "1719/1719 [==============================] - 9s 5ms/step - loss: 0.2567 - accuracy: 0.9088 - val_loss: 0.3311 - val_accuracy: 0.8830\n",
            "Epoch 12/25\n",
            "1719/1719 [==============================] - 9s 5ms/step - loss: 0.2514 - accuracy: 0.9115 - val_loss: 0.3280 - val_accuracy: 0.8840\n",
            "Epoch 13/25\n",
            "1719/1719 [==============================] - 9s 5ms/step - loss: 0.2460 - accuracy: 0.9135 - val_loss: 0.3272 - val_accuracy: 0.8868\n",
            "Epoch 14/25\n",
            "1719/1719 [==============================] - 9s 5ms/step - loss: 0.2420 - accuracy: 0.9136 - val_loss: 0.3231 - val_accuracy: 0.8870\n",
            "Epoch 15/25\n",
            "1719/1719 [==============================] - 9s 5ms/step - loss: 0.2374 - accuracy: 0.9166 - val_loss: 0.3250 - val_accuracy: 0.8872\n",
            "Epoch 16/25\n",
            "1719/1719 [==============================] - 9s 5ms/step - loss: 0.2330 - accuracy: 0.9185 - val_loss: 0.3208 - val_accuracy: 0.8886\n",
            "Epoch 17/25\n",
            "1719/1719 [==============================] - 9s 5ms/step - loss: 0.2293 - accuracy: 0.9190 - val_loss: 0.3235 - val_accuracy: 0.8896\n",
            "Epoch 18/25\n",
            "1719/1719 [==============================] - 9s 5ms/step - loss: 0.2257 - accuracy: 0.9214 - val_loss: 0.3265 - val_accuracy: 0.8836\n",
            "Epoch 19/25\n",
            "1719/1719 [==============================] - 9s 5ms/step - loss: 0.2224 - accuracy: 0.9222 - val_loss: 0.3223 - val_accuracy: 0.8900\n",
            "Epoch 20/25\n",
            "1719/1719 [==============================] - 9s 5ms/step - loss: 0.2193 - accuracy: 0.9230 - val_loss: 0.3234 - val_accuracy: 0.8880\n",
            "Epoch 21/25\n",
            "1719/1719 [==============================] - 9s 5ms/step - loss: 0.2163 - accuracy: 0.9247 - val_loss: 0.3221 - val_accuracy: 0.8900\n",
            "Epoch 22/25\n",
            "1719/1719 [==============================] - 9s 5ms/step - loss: 0.2135 - accuracy: 0.9253 - val_loss: 0.3241 - val_accuracy: 0.8864\n",
            "Epoch 23/25\n",
            "1719/1719 [==============================] - 9s 5ms/step - loss: 0.2107 - accuracy: 0.9262 - val_loss: 0.3210 - val_accuracy: 0.8894\n",
            "Epoch 24/25\n",
            "1719/1719 [==============================] - 9s 5ms/step - loss: 0.2084 - accuracy: 0.9282 - val_loss: 0.3231 - val_accuracy: 0.8904\n",
            "Epoch 25/25\n",
            "1719/1719 [==============================] - 9s 5ms/step - loss: 0.2060 - accuracy: 0.9289 - val_loss: 0.3210 - val_accuracy: 0.8902\n"
          ]
        }
      ]
    },
    {
      "cell_type": "code",
      "source": [
        "import math\n",
        "\n",
        "learning_rate = 0.01\n",
        "decay = 1e-4\n",
        "batch_size = 32\n",
        "n_steps_per_epoch = math.ceil(len(X_train) / batch_size)\n",
        "epochs = np.arange(n_epochs)\n",
        "lrs = learning_rate / (1 + decay * epochs * n_steps_per_epoch)\n",
        "\n",
        "plt.plot(epochs, lrs,  \"o-\")\n",
        "plt.axis([0, n_epochs - 1, 0, 0.01])\n",
        "plt.xlabel(\"Epoch\")\n",
        "plt.ylabel(\"Learning Rate\")\n",
        "plt.title(\"Power Scheduling\", fontsize=14)\n",
        "plt.grid(True)\n",
        "plt.show()"
      ],
      "metadata": {
        "colab": {
          "base_uri": "https://localhost:8080/",
          "height": 303
        },
        "id": "m-ZAdGjy1_DD",
        "outputId": "c841b6a4-3d98-4afa-feaf-d10045a2221f"
      },
      "execution_count": 8,
      "outputs": [
        {
          "output_type": "display_data",
          "data": {
            "text/plain": [
              "<Figure size 432x288 with 1 Axes>"
            ],
            "image/png": "[encoded data removed]"
          },
          "metadata": {
            "needs_background": "light"
          }
        }
      ]
    },
    {
      "cell_type": "markdown",
      "source": [
        "##Exponential Scheduling\n",
        "\n",
        "lr = lr0 * 0.1**(epoch / s)"
      ],
      "metadata": {
        "id": "YlPlQbeF1naD"
      }
    },
    {
      "cell_type": "code",
      "source": [
        "def exponential_decay_fn(epoch):\n",
        "    return 0.01 * 0.1**(epoch / 20) \n",
        "#구현 복잡"
      ],
      "metadata": {
        "id": "tYEnxakxx8sT"
      },
      "execution_count": 9,
      "outputs": []
    },
    {
      "cell_type": "code",
      "source": [
        "def exponential_decay(lr0, s):\n",
        "    def exponential_decay_fn(epoch):\n",
        "        return lr0 * 0.1**(epoch / s)\n",
        "    return exponential_decay_fn\n",
        "\n",
        "exponential_decay_fn = exponential_decay(lr0=0.01, s=20)"
      ],
      "metadata": {
        "id": "TA2MFi6d3X4y"
      },
      "execution_count": 10,
      "outputs": []
    },
    {
      "cell_type": "code",
      "source": [
        "model = keras.models.Sequential([\n",
        "    keras.layers.Flatten(input_shape=[28, 28]),\n",
        "    keras.layers.Dense(300, activation=\"selu\", kernel_initializer=\"lecun_normal\"),\n",
        "    keras.layers.Dense(100, activation=\"selu\", kernel_initializer=\"lecun_normal\"),\n",
        "    keras.layers.Dense(10, activation=\"softmax\")\n",
        "])\n",
        "model.compile(loss=\"sparse_categorical_crossentropy\", optimizer=\"nadam\", metrics=[\"accuracy\"])\n",
        "n_epochs = 25"
      ],
      "metadata": {
        "id": "fBNsA2pM3anY"
      },
      "execution_count": 11,
      "outputs": []
    },
    {
      "cell_type": "code",
      "source": [
        "lr_scheduler = keras.callbacks.LearningRateScheduler(exponential_decay_fn)\n",
        "history = model.fit(X_train_scaled, y_train, epochs=n_epochs,\n",
        "                    validation_data=(X_valid_scaled, y_valid),\n",
        "                    callbacks=[lr_scheduler])"
      ],
      "metadata": {
        "colab": {
          "base_uri": "https://localhost:8080/"
        },
        "id": "Y_3M3RBF3cYm",
        "outputId": "6572dac2-5e84-4f8c-914d-019071b3a22a"
      },
      "execution_count": 12,
      "outputs": [
        {
          "output_type": "stream",
          "name": "stdout",
          "text": [
            "Epoch 1/25\n",
            "1719/1719 [==============================] - 19s 10ms/step - loss: 0.8576 - accuracy: 0.7527 - val_loss: 1.0656 - val_accuracy: 0.7394 - lr: 0.0100\n",
            "Epoch 2/25\n",
            "1719/1719 [==============================] - 14s 8ms/step - loss: 0.7968 - accuracy: 0.7754 - val_loss: 0.8164 - val_accuracy: 0.8054 - lr: 0.0089\n",
            "Epoch 3/25\n",
            "1719/1719 [==============================] - 13s 8ms/step - loss: 0.6910 - accuracy: 0.8074 - val_loss: 0.6827 - val_accuracy: 0.8272 - lr: 0.0079\n",
            "Epoch 4/25\n",
            "1719/1719 [==============================] - 13s 8ms/step - loss: 0.6033 - accuracy: 0.8283 - val_loss: 0.8896 - val_accuracy: 0.7762 - lr: 0.0071\n",
            "Epoch 5/25\n",
            "1719/1719 [==============================] - 14s 8ms/step - loss: 0.5711 - accuracy: 0.8379 - val_loss: 0.6483 - val_accuracy: 0.8226 - lr: 0.0063\n",
            "Epoch 6/25\n",
            "1719/1719 [==============================] - 14s 8ms/step - loss: 0.4827 - accuracy: 0.8564 - val_loss: 0.6107 - val_accuracy: 0.8488 - lr: 0.0056\n",
            "Epoch 7/25\n",
            "1719/1719 [==============================] - 14s 8ms/step - loss: 0.4356 - accuracy: 0.8682 - val_loss: 0.5023 - val_accuracy: 0.8624 - lr: 0.0050\n",
            "Epoch 8/25\n",
            "1719/1719 [==============================] - 14s 8ms/step - loss: 0.4247 - accuracy: 0.8730 - val_loss: 0.5432 - val_accuracy: 0.8512 - lr: 0.0045\n",
            "Epoch 9/25\n",
            "1719/1719 [==============================] - 15s 8ms/step - loss: 0.3805 - accuracy: 0.8820 - val_loss: 0.4531 - val_accuracy: 0.8724 - lr: 0.0040\n",
            "Epoch 10/25\n",
            "1719/1719 [==============================] - 14s 8ms/step - loss: 0.3582 - accuracy: 0.8897 - val_loss: 0.4745 - val_accuracy: 0.8798 - lr: 0.0035\n",
            "Epoch 11/25\n",
            "1719/1719 [==============================] - 14s 8ms/step - loss: 0.3335 - accuracy: 0.8958 - val_loss: 0.4280 - val_accuracy: 0.8860 - lr: 0.0032\n",
            "Epoch 12/25\n",
            "1719/1719 [==============================] - 14s 8ms/step - loss: 0.2992 - accuracy: 0.9032 - val_loss: 0.4651 - val_accuracy: 0.8812 - lr: 0.0028\n",
            "Epoch 13/25\n",
            "1719/1719 [==============================] - 15s 9ms/step - loss: 0.2858 - accuracy: 0.9081 - val_loss: 0.4772 - val_accuracy: 0.8792 - lr: 0.0025\n",
            "Epoch 14/25\n",
            "1719/1719 [==============================] - 15s 9ms/step - loss: 0.2642 - accuracy: 0.9143 - val_loss: 0.4418 - val_accuracy: 0.8844 - lr: 0.0022\n",
            "Epoch 15/25\n",
            "1719/1719 [==============================] - 15s 9ms/step - loss: 0.2361 - accuracy: 0.9198 - val_loss: 0.4103 - val_accuracy: 0.8838 - lr: 0.0020\n",
            "Epoch 16/25\n",
            "1719/1719 [==============================] - 14s 8ms/step - loss: 0.2129 - accuracy: 0.9262 - val_loss: 0.4184 - val_accuracy: 0.8834 - lr: 0.0018\n",
            "Epoch 17/25\n",
            "1719/1719 [==============================] - 14s 8ms/step - loss: 0.1964 - accuracy: 0.9317 - val_loss: 0.4284 - val_accuracy: 0.8904 - lr: 0.0016\n",
            "Epoch 18/25\n",
            "1719/1719 [==============================] - 14s 8ms/step - loss: 0.1776 - accuracy: 0.9384 - val_loss: 0.4560 - val_accuracy: 0.8870 - lr: 0.0014\n",
            "Epoch 19/25\n",
            "1719/1719 [==============================] - 14s 8ms/step - loss: 0.1646 - accuracy: 0.9435 - val_loss: 0.4528 - val_accuracy: 0.8934 - lr: 0.0013\n",
            "Epoch 20/25\n",
            "1719/1719 [==============================] - 14s 8ms/step - loss: 0.1512 - accuracy: 0.9476 - val_loss: 0.4586 - val_accuracy: 0.8936 - lr: 0.0011\n",
            "Epoch 21/25\n",
            "1719/1719 [==============================] - 14s 8ms/step - loss: 0.1332 - accuracy: 0.9548 - val_loss: 0.5131 - val_accuracy: 0.8912 - lr: 0.0010\n",
            "Epoch 22/25\n",
            "1719/1719 [==============================] - 14s 8ms/step - loss: 0.1246 - accuracy: 0.9584 - val_loss: 0.4718 - val_accuracy: 0.8900 - lr: 8.9125e-04\n",
            "Epoch 23/25\n",
            "1719/1719 [==============================] - 14s 8ms/step - loss: 0.1136 - accuracy: 0.9610 - val_loss: 0.4933 - val_accuracy: 0.8964 - lr: 7.9433e-04\n",
            "Epoch 24/25\n",
            "1719/1719 [==============================] - 14s 8ms/step - loss: 0.1046 - accuracy: 0.9652 - val_loss: 0.4975 - val_accuracy: 0.8952 - lr: 7.0795e-04\n",
            "Epoch 25/25\n",
            "1719/1719 [==============================] - 14s 8ms/step - loss: 0.0958 - accuracy: 0.9677 - val_loss: 0.5208 - val_accuracy: 0.8958 - lr: 6.3096e-04\n"
          ]
        }
      ]
    },
    {
      "cell_type": "code",
      "source": [
        "plt.plot(history.epoch, history.history[\"lr\"], \"o-\")\n",
        "plt.axis([0, n_epochs - 1, 0, 0.011])\n",
        "plt.xlabel(\"Epoch\")\n",
        "plt.ylabel(\"Learning Rate\")\n",
        "plt.title(\"Exponential Scheduling\", fontsize=14)\n",
        "plt.grid(True)\n",
        "plt.show()"
      ],
      "metadata": {
        "colab": {
          "base_uri": "https://localhost:8080/",
          "height": 303
        },
        "id": "CB5j8JwO3dxL",
        "outputId": "9d19a41e-bf50-457f-aa12-7d30eb98d2d7"
      },
      "execution_count": 13,
      "outputs": [
        {
          "output_type": "display_data",
          "data": {
            "text/plain": [
              "<Figure size 432x288 with 1 Axes>"
            ],
            "image/png": "[encoded data removed]"
          },
          "metadata": {
            "needs_background": "light"
          }
        }
      ]
    },
    {
      "cell_type": "markdown",
      "source": [
        "##구간별 고정 스케줄링\n",
        "\n",
        "훈련 구간 별로 일정한 lr을 정해 놓는 방식."
      ],
      "metadata": {
        "id": "ssqVf3Bz7Br2"
      }
    },
    {
      "cell_type": "code",
      "source": [
        "def piecewise_constant_fn(epoch):\n",
        "    if epoch < 5:\n",
        "        return 0.01\n",
        "    elif epoch < 15:\n",
        "        return 0.005\n",
        "    else:\n",
        "        return 0.001\n",
        "\n",
        "# 함수를 정의하고 각 구간에서 활용할 수 있도록 콜백으로 넘겨줌.\n",
        "# 구간별로 값을 같게"
      ],
      "metadata": {
        "id": "tOgVcJ_h5Pri"
      },
      "execution_count": null,
      "outputs": []
    },
    {
      "cell_type": "markdown",
      "source": [
        "##성능기반 스케줄링\n",
        "\n",
        "validation error가 충분히 낮아지면 그때 학습률을 줄여주는 것."
      ],
      "metadata": {
        "id": "9sZNpY9f7srJ"
      }
    },
    {
      "cell_type": "code",
      "source": [
        "lr_scheduler = keras.callbacks.ReduceLROnPlateau(factor=0.5, patience=5)"
      ],
      "metadata": {
        "id": "mN_FUsv97r7a"
      },
      "execution_count": null,
      "outputs": []
    },
    {
      "cell_type": "markdown",
      "source": [
        "##1 Cycle Scheduling\n",
        "\n",
        "* 이런 방법이 꽤 효과적인 경우가 많았음.\n",
        "* 처음부터 작게 시작해서 예열을 해서 키운 다음 어느 순간부터 줄임.\n",
        "* 변수를 최대값, 최소값, 기울기를 넣어줌."
      ],
      "metadata": {
        "id": "Utp0r66T8go8"
      }
    },
    {
      "cell_type": "markdown",
      "source": [
        "#규제"
      ],
      "metadata": {
        "id": "z3nNZ0ix9KQO"
      }
    },
    {
      "cell_type": "markdown",
      "source": [
        "##L1,L2규제\n",
        "\n",
        "overfitting을 해결하고자 사용."
      ],
      "metadata": {
        "id": "fmgm_Z2f9U-v"
      }
    },
    {
      "cell_type": "code",
      "source": [
        "layer = keras.layers.Dense(100, activation=\"elu\",\n",
        "                           kernel_initializer=\"he_normal\",\n",
        "                           kernel_regularizer=keras.regularizers.l2(0.01)) \n",
        "# 0.01: 규제를 하기 위한 숫자. 계수 값이 커질 수록 규제를 키움."
      ],
      "metadata": {
        "id": "bQEkCZpZ9A9D"
      },
      "execution_count": null,
      "outputs": []
    },
    {
      "cell_type": "code",
      "source": [
        "from functools import partial\n",
        "# 케라스 문법은 아님. \n",
        "\n",
        "RegularizedDense = partial(keras.layers.Dense,\n",
        "                           activation=\"elu\",\n",
        "                           kernel_initializer=\"he_normal\",\n",
        "                           kernel_regularizer=keras.regularizers.l2(0.01))\n",
        "#하나로 묶어주는 partial\n",
        "\n",
        "model = keras.models.Sequential([\n",
        "    keras.layers.Flatten(input_shape=[28, 28]),\n",
        "    RegularizedDense(300),\n",
        "    RegularizedDense(100),\n",
        "    RegularizedDense(10, activation=\"softmax\",\n",
        "                     kernel_regularizer=\"florot_uniform\")\n",
        "])"
      ],
      "metadata": {
        "id": "oE_w7iye9g8A"
      },
      "execution_count": null,
      "outputs": []
    },
    {
      "cell_type": "markdown",
      "source": [
        "##드롭아웃\n",
        "\n",
        "* 신경망에서만 사용 가능.\n",
        "* 앙상블 이론과 관련\n",
        "* 매 훈련 step에서 확률에 따라 각 뉴런을 제외하는 방식. 확률적.\n",
        "* 모델이 가질 수 있는 다양성을 가지고 데이터에 덜 민감하면서 성능을 키움.\n",
        "* 모델 출력이 느릴 수 있음."
      ],
      "metadata": {
        "id": "UfzxdW8v67za"
      }
    },
    {
      "cell_type": "code",
      "source": [
        "model = keras.models.Sequential([\n",
        "    keras.layers.Flatten(input_shape=[28, 28]),\n",
        "    keras.layers.Dropout(rate=0.2),\n",
        "    keras.layers.Dense(300, activation=\"elu\", kernel_initializer=\"he_normal\"),\n",
        "    keras.layers.Dropout(rate=0.2),\n",
        "    keras.layers.Dense(100, activation=\"elu\", kernel_initializer=\"he_normal\"),\n",
        "    keras.layers.Dropout(rate=0.2),\n",
        "    keras.layers.Dense(10, activation=\"softmax\")\n",
        "])\n",
        "\n",
        "#훈련이 끝나면 dropout을 적용하지 않기 때문에 (1-p)를 곱함.\n",
        "#모든 weight에 곱함.\n",
        "#averaging 효과\n",
        "#주로 0.5이하로 씀.\n",
        "#복잡한 모델일수록 비율을 늘림.\n",
        "\n",
        "model.compile(loss=\"sparse_categorical_crossentropy\", optimizer=\"nadam\", metrics=[\"accuracy\"])\n",
        "n_epochs = 2\n",
        "history = model.fit(X_train_scaled, y_train, epochs=n_epochs,\n",
        "                    validation_data=(X_valid_scaled, y_valid))"
      ],
      "metadata": {
        "id": "w0XS2HQm6_vQ"
      },
      "execution_count": null,
      "outputs": []
    },
    {
      "cell_type": "markdown",
      "source": [
        "##MC Dropout\n",
        "\n",
        "* 트레이닝과정, 테스트과정을 동일하게 dropout을 동일하게 적용하는 모델"
      ],
      "metadata": {
        "id": "-lDfn-zm92JK"
      }
    },
    {
      "cell_type": "markdown",
      "source": [
        "##Max-norm"
      ],
      "metadata": {
        "id": "oyF8klGj_Zox"
      }
    },
    {
      "cell_type": "code",
      "source": [
        "layer = keras.layers.Dense(100, activation=\"selu\", kernel_initializer=\"lecun_normal\",\n",
        "                           kernel_constraint=keras.constraints.max_norm(1.))\n",
        "# 커널에 대한 제한조건을 주고 최대 norm을 1로 줌."
      ],
      "metadata": {
        "id": "O1kuCogk_ZW0"
      },
      "execution_count": null,
      "outputs": []
    },
    {
      "cell_type": "markdown",
      "source": [
        ">최종 목표는 성능이고, 빠르게 훈련할 수 있는 여러 기법들을 배운 것."
      ],
      "metadata": {
        "id": "AD2RC21J_7Ek"
      }
    },
    {
      "cell_type": "markdown",
      "source": [
        "#12장-텐서플로를 사용한 사용자 정의 모델과 훈련"
      ],
      "metadata": {
        "id": "qWCIFUzy_3Qy"
      }
    },
    {
      "cell_type": "markdown",
      "source": [
        "* 구글이 만들었음.\n",
        "* 성능에 장점이 있지만 난이도의 문제가 있었지만 최근들어 접근성이 좋아짐.\n",
        "* operation 단위. 텐서플로의 연산단위.\n",
        "* TFX: 사람들이 쉽게 접근해서 사용할 수 있는 환경 구비.\n",
        "* 넘파이와 구조가 비슷함."
      ],
      "metadata": {
        "id": "BUxZZyFFAmYg"
      }
    },
    {
      "cell_type": "code",
      "source": [
        "a = np.array([2., 4., 5.])\n",
        "tf.constant(a)"
      ],
      "metadata": {
        "id": "ofv84qGd_ZTa"
      },
      "execution_count": null,
      "outputs": []
    },
    {
      "cell_type": "code",
      "source": [
        "t.numpy()"
      ],
      "metadata": {
        "id": "2jq6fjHZ6_w4"
      },
      "execution_count": null,
      "outputs": []
    },
    {
      "cell_type": "code",
      "source": [
        "np.array(t)"
      ],
      "metadata": {
        "id": "gY5RpA68CCz9"
      },
      "execution_count": null,
      "outputs": []
    },
    {
      "cell_type": "code",
      "source": [
        "tf.square(a)"
      ],
      "metadata": {
        "id": "pUR7BCQ6CEiU"
      },
      "execution_count": null,
      "outputs": []
    },
    {
      "cell_type": "code",
      "source": [
        "np.square(t)"
      ],
      "metadata": {
        "id": "D_WiqDmUCEbt"
      },
      "execution_count": null,
      "outputs": []
    },
    {
      "cell_type": "code",
      "source": [
        "t2 = tf.constant(40., dtype=tf.float64)\n",
        "tf.constant(2.0) + tf.cast(t2, tf.float32)\n",
        "#자동 형변환을 하지 않음. 타입이 다르면 연산이 되지 않음."
      ],
      "metadata": {
        "id": "1NrgMXT8CYGc"
      },
      "execution_count": null,
      "outputs": []
    },
    {
      "cell_type": "code",
      "source": [
        "v = tf.Variable([[1., 2., 3.], [4., 5., 6.]])\n",
        "#모델 상에서 변수의 역할을 하고, 이 상태여야지 객체로써 train이 가능."
      ],
      "metadata": {
        "id": "bDijSss9C2QK"
      },
      "execution_count": null,
      "outputs": []
    },
    {
      "cell_type": "markdown",
      "source": [
        "##사용자 정의 손실 함수\n"
      ],
      "metadata": {
        "id": "wVnQSNiGDNnX"
      }
    },
    {
      "cell_type": "markdown",
      "source": [
        "###Huber loss"
      ],
      "metadata": {
        "id": "M9TZn3bdEDjR"
      }
    },
    {
      "cell_type": "code",
      "source": [
        "def huber_fn(y_true, y_pred): #참 값과 예측값\n",
        "    error = y_true - y_pred\n",
        "    is_small_error = tf.abs(error) < 1 # 0 or 1\n",
        "    squared_loss = tf.square(error) / 2 # 숫자\n",
        "    linear_loss  = tf.abs(error) - 0.5 # 숫자\n",
        "    #shape이 같음.\n",
        "    return tf.where(is_small_error, squared_loss, linear_loss)\n",
        "    # 삼항 연산자를 사용함."
      ],
      "metadata": {
        "id": "8U_30ogiDZBg"
      },
      "execution_count": null,
      "outputs": []
    },
    {
      "cell_type": "code",
      "source": [
        "model.compile(loss=huber_fn, optimizer=\"nadam\", metrics=[\"mae\"])\n",
        "# loss에 function 값 자체를 넣어줌.\n",
        "\n",
        "model.fit(X_train_scaled, y_train, epochs=2,\n",
        "          validation_data=(X_valid_scaled, y_valid))"
      ],
      "metadata": {
        "id": "GChwKMvuEyki"
      },
      "execution_count": null,
      "outputs": []
    },
    {
      "cell_type": "markdown",
      "source": [
        "###Custom component를 가진 모델을 저장하고 로드."
      ],
      "metadata": {
        "id": "m9lEbWWfFSzB"
      }
    },
    {
      "cell_type": "markdown",
      "source": [
        "###1. function이름과 실제 function을 매핑한 dictionary 전달."
      ],
      "metadata": {
        "id": "qHuLfk43GwRH"
      }
    },
    {
      "cell_type": "code",
      "source": [
        "model = keras.models.load_model(\"my_model_with_a_custom_loss.h5\",\n",
        "                                custom_objects={\"huber_fn\": huber_fn})\n",
        "# custom function은 라이브러리에 저장된 것이 아니라서 정의되지 않았다고 오류\n",
        "# custom_object에 등록을 해줘서 save/load 가능하게 함."
      ],
      "metadata": {
        "id": "DYr__SGsFPDQ"
      },
      "execution_count": null,
      "outputs": []
    },
    {
      "cell_type": "markdown",
      "source": [
        "###2. 매개변수가 있는 function"
      ],
      "metadata": {
        "id": "QgQrOdHEG4Cn"
      }
    },
    {
      "cell_type": "code",
      "source": [
        "def create_huber(threshold=1.0):\n",
        "  #threshold: 함수 포인터 값.\n",
        "    def huber_fn(y_true, y_pred):\n",
        "        error = y_true - y_pred\n",
        "        is_small_error = tf.abs(error) < threshold\n",
        "        squared_loss = tf.square(error) / 2\n",
        "        linear_loss  = threshold * tf.abs(error) - threshold**2 / 2\n",
        "        return tf.where(is_small_error, squared_loss, linear_loss)\n",
        "    return huber_fn\n",
        "\n",
        "model.compile(loss=create_huber(2.0), optimizer=\"nadam\")\n",
        "# 여기서는 2.0인 구조로 바꿈."
      ],
      "metadata": {
        "id": "LdgXp0AhFapH"
      },
      "execution_count": null,
      "outputs": []
    },
    {
      "cell_type": "code",
      "source": [
        "model = keras.models.load_model(\"my_model_with_a_custom_loss_threshold_2.h5\",\n",
        "                                custom_objects={\"huber_fn\": create_huber(2.0)}) # 필수"
      ],
      "metadata": {
        "id": "yOmlIPFAFoLX"
      },
      "execution_count": null,
      "outputs": []
    },
    {
      "cell_type": "markdown",
      "source": [
        "###3. Class 상속"
      ],
      "metadata": {
        "id": "3Wb3bOH8G9m-"
      }
    },
    {
      "cell_type": "code",
      "source": [
        "class HuberLoss(keras.losses.Loss):\n",
        "    def __init__(self, threshold=1.0, **kwargs): #생성자\n",
        "        self.threshold = threshold\n",
        "        super().__init__(**kwargs)\n",
        "    def call(self, y_true, y_pred): #실제 실행\n",
        "        error = y_true - y_pred\n",
        "        is_small_error = tf.abs(error) < self.threshold\n",
        "        squared_loss = tf.square(error) / 2\n",
        "        linear_loss  = self.threshold * tf.abs(error) - self.threshold**2 / 2\n",
        "        return tf.where(is_small_error, squared_loss, linear_loss)\n",
        "    def get_config(self): #필요에 따라 변경\n",
        "        base_config = super().get_config()\n",
        "        return {**base_config, \"threshold\": self.threshold}"
      ],
      "metadata": {
        "id": "JeUAXdoMHBY4"
      },
      "execution_count": null,
      "outputs": []
    },
    {
      "cell_type": "code",
      "source": [
        "model.compile(loss=HuberLoss(2.), optimizer=\"nadam\") \n",
        "#아까는 loss에 function이 들어가지만 지금은 생성자"
      ],
      "metadata": {
        "id": "21mZnDwWHRbF"
      },
      "execution_count": null,
      "outputs": []
    },
    {
      "cell_type": "code",
      "source": [
        "model = keras.models.load_model(\"my_model_with_a_custom_loss_class.h5\",\n",
        "                                custom_objects={\"HuberLoss\": HuberLoss})"
      ],
      "metadata": {
        "id": "CZMrroZUHTd8"
      },
      "execution_count": null,
      "outputs": []
    },
    {
      "cell_type": "markdown",
      "source": [
        "## 그 외 사용자 정의 함수"
      ],
      "metadata": {
        "id": "h4KuDxFgHoY4"
      }
    },
    {
      "cell_type": "code",
      "source": [
        "def my_softplus(z): # tf.nn.softplus(z) 값을 반환합니다\n",
        "    return tf.math.log(tf.exp(z) + 1.0)\n",
        "\n",
        "def my_glorot_initializer(shape, dtype=tf.float32):\n",
        "    stddev = tf.sqrt(2. / (shape[0] + shape[1]))\n",
        "    return tf.random.normal(shape, stddev=stddev, dtype=dtype)\n",
        "\n",
        "def my_l1_regularizer(weights): #규제함수는 꼭 weight를 입력을 받아야 함.\n",
        "    return tf.reduce_sum(tf.abs(0.01 * weights))\n",
        "\n",
        "def my_positive_weights(weights): # tf.nn.relu(weights) 값을 반환합니다\n",
        "    return tf.where(weights < 0., tf.zeros_like(weights), weights)"
      ],
      "metadata": {
        "id": "OpHpXGM-HrMS"
      },
      "execution_count": null,
      "outputs": []
    },
    {
      "cell_type": "markdown",
      "source": [
        "> 보통은 가져다 쓰지만 어떤 건지 코드에 대해 알아야 보는 눈을 기를 수 있음."
      ],
      "metadata": {
        "id": "lfgBbJ1YIVm4"
      }
    },
    {
      "cell_type": "markdown",
      "source": [
        "##사용자 정의 지표_ Custom metric\n"
      ],
      "metadata": {
        "id": "NjhpdEW0IFO3"
      }
    },
    {
      "cell_type": "code",
      "source": [
        "model.compile(loss=\"mse\", optimizer=\"nadam\", metrics=[create_huber(2.0)])\n",
        "# mse 함수 객체\n",
        "# 보통 metric은 list로 전달\n",
        "# loss는 하나만, gradient 갯수 대로(하나여야 하니까)"
      ],
      "metadata": {
        "id": "OvQOYwl8IFBN"
      },
      "execution_count": null,
      "outputs": []
    },
    {
      "cell_type": "markdown",
      "source": [
        "##사용자 정의 층_Custom layer\n",
        "* init, call, get_config"
      ],
      "metadata": {
        "id": "i6QxeKgEI29_"
      }
    },
    {
      "cell_type": "code",
      "source": [
        "class MyDense(keras.layers.Layer):\n",
        "    def __init__(self, units, activation=None, **kwargs):\n",
        "        super().__init__(**kwargs)\n",
        "        self.units = units\n",
        "        self.activation = keras.activations.get(activation)\n",
        "\n",
        "    def build(self, batch_input_shape):\n",
        "        self.kernel = self.add_weight(\n",
        "            name=\"kernel\", shape=[batch_input_shape[-1], self.units],\n",
        "            initializer=\"glorot_normal\")\n",
        "        self.bias = self.add_weight(\n",
        "            name=\"bias\", shape=[self.units], initializer=\"zeros\")\n",
        "        super().build(batch_input_shape) # must be at the end\n",
        "\n",
        "    def call(self, X):\n",
        "        return self.activation(X @ self.kernel + self.bias)\n",
        "\n",
        "    def compute_output_shape(self, batch_input_shape):\n",
        "        return tf.TensorShape(batch_input_shape.as_list()[:-1] + [self.units])\n",
        "\n",
        "    def get_config(self):\n",
        "        base_config = super().get_config()\n",
        "        return {**base_config, \"units\": self.units,\n",
        "                \"activation\": keras.activations.serialize(self.activation)}\n",
        "\n",
        "# 상속해서 override \n",
        "# init과 call\n",
        "# build: 모델이 사용되기 전에 호출"
      ],
      "metadata": {
        "id": "WMyvveYaI_Jo"
      },
      "execution_count": null,
      "outputs": []
    },
    {
      "cell_type": "code",
      "source": [
        "class ReconstructingRegressor(keras.Model):\n",
        "    def __init__(self, output_dim, **kwargs):\n",
        "        super().__init__(**kwargs)\n",
        "        self.hidden = [keras.layers.Dense(30, activation=\"selu\",\n",
        "                                          kernel_initializer=\"lecun_normal\")\n",
        "                       for _ in range(5)]\n",
        "        self.out = keras.layers.Dense(output_dim)\n",
        "        self.reconstruction_mean = keras.metrics.Mean(name=\"reconstruction_error\")\n",
        "\n",
        "    def build(self, batch_input_shape):\n",
        "        n_inputs = batch_input_shape[-1]\n",
        "        self.reconstruct = keras.layers.Dense(n_inputs)\n",
        "        super().build(batch_input_shape)\n",
        "\n",
        "    def call(self, inputs, training=None):\n",
        "        Z = inputs\n",
        "        for layer in self.hidden:\n",
        "            Z = layer(Z)\n",
        "        reconstruction = self.reconstruct(Z)\n",
        "        recon_loss = tf.reduce_mean(tf.square(reconstruction - inputs))\n",
        "        self.add_loss(0.05*recon_loss) # 특수한 목적이 있을 때 추가해서 사용. \n",
        "        return self.out(Z)"
      ],
      "metadata": {
        "id": "io4ATZBeL2cn"
      },
      "execution_count": null,
      "outputs": []
    },
    {
      "cell_type": "markdown",
      "source": [
        "##TF function 사용 규칙\n",
        "\n",
        "* TF 구성요소가 아닌 다른 라이브러리는 사용하지 않는다.\n",
        "* 반복문 보다는 백터화된 구현을 사용한다. 횟수 반복은 되지만 값 계산할 때 쓰면 안됨. 작동한다 하더라도 효율이 떨어진다. \n",
        "* 명령을 내린다기 보다는 수식을 정의하듯 구현한다.\n",
        "* Graphical 모델, 행렬연산이라는 컨셉을 유지하도록!\n"
      ],
      "metadata": {
        "id": "la2hxZQeM_K0"
      }
    }
  ]
}